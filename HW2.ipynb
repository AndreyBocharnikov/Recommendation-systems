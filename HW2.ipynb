{
  "nbformat": 4,
  "nbformat_minor": 0,
  "metadata": {
    "colab": {
      "name": "HW2.ipynb",
      "provenance": [],
      "collapsed_sections": [],
      "machine_shape": "hm",
      "authorship_tag": "ABX9TyO6SJgDjQAD5/cFyEDPq256",
      "include_colab_link": true
    },
    "kernelspec": {
      "display_name": "Python 3",
      "name": "python3"
    },
    "language_info": {
      "name": "python"
    },
    "accelerator": "GPU"
  },
  "cells": [
    {
      "cell_type": "markdown",
      "metadata": {
        "id": "view-in-github",
        "colab_type": "text"
      },
      "source": [
        "<a href=\"https://colab.research.google.com/github/AndreyBocharnikov/Recommendation-systems/blob/master/HW2.ipynb\" target=\"_parent\"><img src=\"https://colab.research.google.com/assets/colab-badge.svg\" alt=\"Open In Colab\"/></a>"
      ]
    },
    {
      "cell_type": "code",
      "metadata": {
        "colab": {
          "base_uri": "https://localhost:8080/"
        },
        "id": "L0UE0jbLp6Rp",
        "outputId": "6fca1724-3f30-4bf5-a851-ae0f16b040e6"
      },
      "source": [
        "from google.colab import drive\n",
        "drive.mount('/content/drive/', force_remount=True)\n",
        "\n",
        "dir_name = '/content/drive/My Drive/itmo/RecSys/datasets/kkbox-music-recommendation-challenge'"
      ],
      "execution_count": 1,
      "outputs": [
        {
          "output_type": "stream",
          "text": [
            "Mounted at /content/drive/\n"
          ],
          "name": "stdout"
        }
      ]
    },
    {
      "cell_type": "code",
      "metadata": {
        "colab": {
          "base_uri": "https://localhost:8080/"
        },
        "id": "BXP2352Pa3LI",
        "outputId": "e55bede2-54ed-4cfb-c751-0c468a2dc470"
      },
      "source": [
        "!pip install xgboost"
      ],
      "execution_count": 2,
      "outputs": [
        {
          "output_type": "stream",
          "text": [
            "Requirement already satisfied: xgboost in /usr/local/lib/python3.7/dist-packages (0.90)\n",
            "Requirement already satisfied: numpy in /usr/local/lib/python3.7/dist-packages (from xgboost) (1.19.5)\n",
            "Requirement already satisfied: scipy in /usr/local/lib/python3.7/dist-packages (from xgboost) (1.4.1)\n"
          ],
          "name": "stdout"
        }
      ]
    },
    {
      "cell_type": "code",
      "metadata": {
        "colab": {
          "base_uri": "https://localhost:8080/"
        },
        "id": "kcPMcPsqmd8E",
        "outputId": "6a3852cc-a71f-491a-8253-6e30228c59ea"
      },
      "source": [
        "!pip install catboost"
      ],
      "execution_count": 3,
      "outputs": [
        {
          "output_type": "stream",
          "text": [
            "Collecting catboost\n",
            "\u001b[?25l  Downloading https://files.pythonhosted.org/packages/47/80/8e9c57ec32dfed6ba2922bc5c96462cbf8596ce1a6f5de532ad1e43e53fe/catboost-0.25.1-cp37-none-manylinux1_x86_64.whl (67.3MB)\n",
            "\u001b[K     |████████████████████████████████| 67.3MB 76kB/s \n",
            "\u001b[?25hRequirement already satisfied: numpy>=1.16.0 in /usr/local/lib/python3.7/dist-packages (from catboost) (1.19.5)\n",
            "Requirement already satisfied: six in /usr/local/lib/python3.7/dist-packages (from catboost) (1.15.0)\n",
            "Requirement already satisfied: graphviz in /usr/local/lib/python3.7/dist-packages (from catboost) (0.10.1)\n",
            "Requirement already satisfied: matplotlib in /usr/local/lib/python3.7/dist-packages (from catboost) (3.2.2)\n",
            "Requirement already satisfied: pandas>=0.24.0 in /usr/local/lib/python3.7/dist-packages (from catboost) (1.1.5)\n",
            "Requirement already satisfied: scipy in /usr/local/lib/python3.7/dist-packages (from catboost) (1.4.1)\n",
            "Requirement already satisfied: plotly in /usr/local/lib/python3.7/dist-packages (from catboost) (4.4.1)\n",
            "Requirement already satisfied: cycler>=0.10 in /usr/local/lib/python3.7/dist-packages (from matplotlib->catboost) (0.10.0)\n",
            "Requirement already satisfied: kiwisolver>=1.0.1 in /usr/local/lib/python3.7/dist-packages (from matplotlib->catboost) (1.3.1)\n",
            "Requirement already satisfied: pyparsing!=2.0.4,!=2.1.2,!=2.1.6,>=2.0.1 in /usr/local/lib/python3.7/dist-packages (from matplotlib->catboost) (2.4.7)\n",
            "Requirement already satisfied: python-dateutil>=2.1 in /usr/local/lib/python3.7/dist-packages (from matplotlib->catboost) (2.8.1)\n",
            "Requirement already satisfied: pytz>=2017.2 in /usr/local/lib/python3.7/dist-packages (from pandas>=0.24.0->catboost) (2018.9)\n",
            "Requirement already satisfied: retrying>=1.3.3 in /usr/local/lib/python3.7/dist-packages (from plotly->catboost) (1.3.3)\n",
            "Installing collected packages: catboost\n",
            "Successfully installed catboost-0.25.1\n"
          ],
          "name": "stdout"
        }
      ]
    },
    {
      "cell_type": "code",
      "metadata": {
        "colab": {
          "base_uri": "https://localhost:8080/"
        },
        "id": "CHOYmT9yA4bj",
        "outputId": "3091fb40-e47b-43fc-d7f0-1def95042a86"
      },
      "source": [
        "!pip install shap"
      ],
      "execution_count": 4,
      "outputs": [
        {
          "output_type": "stream",
          "text": [
            "Collecting shap\n",
            "\u001b[?25l  Downloading https://files.pythonhosted.org/packages/b9/f4/c5b95cddae15be80f8e58b25edceca105aa83c0b8c86a1edad24a6af80d3/shap-0.39.0.tar.gz (356kB)\n",
            "\r\u001b[K     |█                               | 10kB 19.7MB/s eta 0:00:01\r\u001b[K     |█▉                              | 20kB 26.9MB/s eta 0:00:01\r\u001b[K     |██▊                             | 30kB 21.5MB/s eta 0:00:01\r\u001b[K     |███▊                            | 40kB 16.6MB/s eta 0:00:01\r\u001b[K     |████▋                           | 51kB 11.3MB/s eta 0:00:01\r\u001b[K     |█████▌                          | 61kB 13.0MB/s eta 0:00:01\r\u001b[K     |██████▍                         | 71kB 11.0MB/s eta 0:00:01\r\u001b[K     |███████▍                        | 81kB 11.9MB/s eta 0:00:01\r\u001b[K     |████████▎                       | 92kB 11.8MB/s eta 0:00:01\r\u001b[K     |█████████▏                      | 102kB 10.8MB/s eta 0:00:01\r\u001b[K     |██████████▏                     | 112kB 10.8MB/s eta 0:00:01\r\u001b[K     |███████████                     | 122kB 10.8MB/s eta 0:00:01\r\u001b[K     |████████████                    | 133kB 10.8MB/s eta 0:00:01\r\u001b[K     |████████████▉                   | 143kB 10.8MB/s eta 0:00:01\r\u001b[K     |█████████████▉                  | 153kB 10.8MB/s eta 0:00:01\r\u001b[K     |██████████████▊                 | 163kB 10.8MB/s eta 0:00:01\r\u001b[K     |███████████████▋                | 174kB 10.8MB/s eta 0:00:01\r\u001b[K     |████████████████▋               | 184kB 10.8MB/s eta 0:00:01\r\u001b[K     |█████████████████▌              | 194kB 10.8MB/s eta 0:00:01\r\u001b[K     |██████████████████▍             | 204kB 10.8MB/s eta 0:00:01\r\u001b[K     |███████████████████▎            | 215kB 10.8MB/s eta 0:00:01\r\u001b[K     |████████████████████▎           | 225kB 10.8MB/s eta 0:00:01\r\u001b[K     |█████████████████████▏          | 235kB 10.8MB/s eta 0:00:01\r\u001b[K     |██████████████████████          | 245kB 10.8MB/s eta 0:00:01\r\u001b[K     |███████████████████████         | 256kB 10.8MB/s eta 0:00:01\r\u001b[K     |████████████████████████        | 266kB 10.8MB/s eta 0:00:01\r\u001b[K     |████████████████████████▉       | 276kB 10.8MB/s eta 0:00:01\r\u001b[K     |█████████████████████████▊      | 286kB 10.8MB/s eta 0:00:01\r\u001b[K     |██████████████████████████▊     | 296kB 10.8MB/s eta 0:00:01\r\u001b[K     |███████████████████████████▋    | 307kB 10.8MB/s eta 0:00:01\r\u001b[K     |████████████████████████████▌   | 317kB 10.8MB/s eta 0:00:01\r\u001b[K     |█████████████████████████████▍  | 327kB 10.8MB/s eta 0:00:01\r\u001b[K     |██████████████████████████████▍ | 337kB 10.8MB/s eta 0:00:01\r\u001b[K     |███████████████████████████████▎| 348kB 10.8MB/s eta 0:00:01\r\u001b[K     |████████████████████████████████| 358kB 10.8MB/s \n",
            "\u001b[?25hRequirement already satisfied: numpy in /usr/local/lib/python3.7/dist-packages (from shap) (1.19.5)\n",
            "Requirement already satisfied: scipy in /usr/local/lib/python3.7/dist-packages (from shap) (1.4.1)\n",
            "Requirement already satisfied: scikit-learn in /usr/local/lib/python3.7/dist-packages (from shap) (0.22.2.post1)\n",
            "Requirement already satisfied: pandas in /usr/local/lib/python3.7/dist-packages (from shap) (1.1.5)\n",
            "Requirement already satisfied: tqdm>4.25.0 in /usr/local/lib/python3.7/dist-packages (from shap) (4.41.1)\n",
            "Collecting slicer==0.0.7\n",
            "  Downloading https://files.pythonhosted.org/packages/78/c2/b3f55dfdb8af9812fdb9baf70cacf3b9e82e505b2bd4324d588888b81202/slicer-0.0.7-py3-none-any.whl\n",
            "Requirement already satisfied: numba in /usr/local/lib/python3.7/dist-packages (from shap) (0.51.2)\n",
            "Requirement already satisfied: cloudpickle in /usr/local/lib/python3.7/dist-packages (from shap) (1.3.0)\n",
            "Requirement already satisfied: joblib>=0.11 in /usr/local/lib/python3.7/dist-packages (from scikit-learn->shap) (1.0.1)\n",
            "Requirement already satisfied: pytz>=2017.2 in /usr/local/lib/python3.7/dist-packages (from pandas->shap) (2018.9)\n",
            "Requirement already satisfied: python-dateutil>=2.7.3 in /usr/local/lib/python3.7/dist-packages (from pandas->shap) (2.8.1)\n",
            "Requirement already satisfied: setuptools in /usr/local/lib/python3.7/dist-packages (from numba->shap) (56.0.0)\n",
            "Requirement already satisfied: llvmlite<0.35,>=0.34.0.dev0 in /usr/local/lib/python3.7/dist-packages (from numba->shap) (0.34.0)\n",
            "Requirement already satisfied: six>=1.5 in /usr/local/lib/python3.7/dist-packages (from python-dateutil>=2.7.3->pandas->shap) (1.15.0)\n",
            "Building wheels for collected packages: shap\n",
            "  Building wheel for shap (setup.py) ... \u001b[?25l\u001b[?25hdone\n",
            "  Created wheel for shap: filename=shap-0.39.0-cp37-cp37m-linux_x86_64.whl size=491633 sha256=c324e6649790c2282ac742a8c4cb63625c96c4537e46e7406958fe1ba3de6289\n",
            "  Stored in directory: /root/.cache/pip/wheels/15/27/f5/a8ab9da52fd159aae6477b5ede6eaaec69fd130fa0fa59f283\n",
            "Successfully built shap\n",
            "Installing collected packages: slicer, shap\n",
            "Successfully installed shap-0.39.0 slicer-0.0.7\n"
          ],
          "name": "stdout"
        }
      ]
    },
    {
      "cell_type": "code",
      "metadata": {
        "id": "a_YHYRVTt38M"
      },
      "source": [
        "import pandas as pd\n",
        "import numpy as np\n",
        "import os\n",
        "from collections import defaultdict\n",
        "import time\n",
        "import copy\n",
        "import itertools\n",
        "from sklearn.model_selection import KFold\n",
        "import xgboost as xgb\n",
        "from catboost import CatBoostClassifier, Pool\n",
        "from sklearn.metrics import roc_auc_score\n",
        "import shap"
      ],
      "execution_count": 2,
      "outputs": []
    },
    {
      "cell_type": "markdown",
      "metadata": {
        "id": "X17e3QBbbqPP"
      },
      "source": [
        "Загрузим данные и посмотрим на них"
      ]
    },
    {
      "cell_type": "code",
      "metadata": {
        "colab": {
          "base_uri": "https://localhost:8080/",
          "height": 204
        },
        "id": "yybpmulrvxN5",
        "outputId": "653750d0-b7b9-4eac-e6ad-915cc892abb3"
      },
      "source": [
        "train = pd.read_csv(os.path.join(dir_name, \"train.csv\"))\n",
        "train.head()"
      ],
      "execution_count": 3,
      "outputs": [
        {
          "output_type": "execute_result",
          "data": {
            "text/html": [
              "<div>\n",
              "<style scoped>\n",
              "    .dataframe tbody tr th:only-of-type {\n",
              "        vertical-align: middle;\n",
              "    }\n",
              "\n",
              "    .dataframe tbody tr th {\n",
              "        vertical-align: top;\n",
              "    }\n",
              "\n",
              "    .dataframe thead th {\n",
              "        text-align: right;\n",
              "    }\n",
              "</style>\n",
              "<table border=\"1\" class=\"dataframe\">\n",
              "  <thead>\n",
              "    <tr style=\"text-align: right;\">\n",
              "      <th></th>\n",
              "      <th>msno</th>\n",
              "      <th>song_id</th>\n",
              "      <th>source_system_tab</th>\n",
              "      <th>source_screen_name</th>\n",
              "      <th>source_type</th>\n",
              "      <th>target</th>\n",
              "    </tr>\n",
              "  </thead>\n",
              "  <tbody>\n",
              "    <tr>\n",
              "      <th>0</th>\n",
              "      <td>FGtllVqz18RPiwJj/edr2gV78zirAiY/9SmYvia+kCg=</td>\n",
              "      <td>BBzumQNXUHKdEBOB7mAJuzok+IJA1c2Ryg/yzTF6tik=</td>\n",
              "      <td>explore</td>\n",
              "      <td>Explore</td>\n",
              "      <td>online-playlist</td>\n",
              "      <td>1</td>\n",
              "    </tr>\n",
              "    <tr>\n",
              "      <th>1</th>\n",
              "      <td>Xumu+NIjS6QYVxDS4/t3SawvJ7viT9hPKXmf0RtLNx8=</td>\n",
              "      <td>bhp/MpSNoqoxOIB+/l8WPqu6jldth4DIpCm3ayXnJqM=</td>\n",
              "      <td>my library</td>\n",
              "      <td>Local playlist more</td>\n",
              "      <td>local-playlist</td>\n",
              "      <td>1</td>\n",
              "    </tr>\n",
              "    <tr>\n",
              "      <th>2</th>\n",
              "      <td>Xumu+NIjS6QYVxDS4/t3SawvJ7viT9hPKXmf0RtLNx8=</td>\n",
              "      <td>JNWfrrC7zNN7BdMpsISKa4Mw+xVJYNnxXh3/Epw7QgY=</td>\n",
              "      <td>my library</td>\n",
              "      <td>Local playlist more</td>\n",
              "      <td>local-playlist</td>\n",
              "      <td>1</td>\n",
              "    </tr>\n",
              "    <tr>\n",
              "      <th>3</th>\n",
              "      <td>Xumu+NIjS6QYVxDS4/t3SawvJ7viT9hPKXmf0RtLNx8=</td>\n",
              "      <td>2A87tzfnJTSWqD7gIZHisolhe4DMdzkbd6LzO1KHjNs=</td>\n",
              "      <td>my library</td>\n",
              "      <td>Local playlist more</td>\n",
              "      <td>local-playlist</td>\n",
              "      <td>1</td>\n",
              "    </tr>\n",
              "    <tr>\n",
              "      <th>4</th>\n",
              "      <td>FGtllVqz18RPiwJj/edr2gV78zirAiY/9SmYvia+kCg=</td>\n",
              "      <td>3qm6XTZ6MOCU11x8FIVbAGH5l5uMkT3/ZalWG1oo2Gc=</td>\n",
              "      <td>explore</td>\n",
              "      <td>Explore</td>\n",
              "      <td>online-playlist</td>\n",
              "      <td>1</td>\n",
              "    </tr>\n",
              "  </tbody>\n",
              "</table>\n",
              "</div>"
            ],
            "text/plain": [
              "                                           msno  ... target\n",
              "0  FGtllVqz18RPiwJj/edr2gV78zirAiY/9SmYvia+kCg=  ...      1\n",
              "1  Xumu+NIjS6QYVxDS4/t3SawvJ7viT9hPKXmf0RtLNx8=  ...      1\n",
              "2  Xumu+NIjS6QYVxDS4/t3SawvJ7viT9hPKXmf0RtLNx8=  ...      1\n",
              "3  Xumu+NIjS6QYVxDS4/t3SawvJ7viT9hPKXmf0RtLNx8=  ...      1\n",
              "4  FGtllVqz18RPiwJj/edr2gV78zirAiY/9SmYvia+kCg=  ...      1\n",
              "\n",
              "[5 rows x 6 columns]"
            ]
          },
          "metadata": {
            "tags": []
          },
          "execution_count": 3
        }
      ]
    },
    {
      "cell_type": "code",
      "metadata": {
        "colab": {
          "base_uri": "https://localhost:8080/"
        },
        "id": "8hmKFDu1zV8r",
        "outputId": "b4c40408-5862-4090-cc25-1f6a5510f9dc"
      },
      "source": [
        "train.shape, train.msno.nunique(), train.song_id.nunique()"
      ],
      "execution_count": 4,
      "outputs": [
        {
          "output_type": "execute_result",
          "data": {
            "text/plain": [
              "((7377418, 6), 30755, 359966)"
            ]
          },
          "metadata": {
            "tags": []
          },
          "execution_count": 4
        }
      ]
    },
    {
      "cell_type": "code",
      "metadata": {
        "colab": {
          "base_uri": "https://localhost:8080/",
          "height": 204
        },
        "id": "Rvf3HUc3wE1G",
        "outputId": "fbab50aa-119a-4b24-eb07-0a95f5911ed4"
      },
      "source": [
        "songs = pd.read_csv(os.path.join(dir_name, \"songs.csv\"))\n",
        "songs.head()"
      ],
      "execution_count": 5,
      "outputs": [
        {
          "output_type": "execute_result",
          "data": {
            "text/html": [
              "<div>\n",
              "<style scoped>\n",
              "    .dataframe tbody tr th:only-of-type {\n",
              "        vertical-align: middle;\n",
              "    }\n",
              "\n",
              "    .dataframe tbody tr th {\n",
              "        vertical-align: top;\n",
              "    }\n",
              "\n",
              "    .dataframe thead th {\n",
              "        text-align: right;\n",
              "    }\n",
              "</style>\n",
              "<table border=\"1\" class=\"dataframe\">\n",
              "  <thead>\n",
              "    <tr style=\"text-align: right;\">\n",
              "      <th></th>\n",
              "      <th>song_id</th>\n",
              "      <th>song_length</th>\n",
              "      <th>genre_ids</th>\n",
              "      <th>artist_name</th>\n",
              "      <th>composer</th>\n",
              "      <th>lyricist</th>\n",
              "      <th>language</th>\n",
              "    </tr>\n",
              "  </thead>\n",
              "  <tbody>\n",
              "    <tr>\n",
              "      <th>0</th>\n",
              "      <td>CXoTN1eb7AI+DntdU1vbcwGRV4SCIDxZu+YD8JP8r4E=</td>\n",
              "      <td>247640</td>\n",
              "      <td>465</td>\n",
              "      <td>張信哲 (Jeff Chang)</td>\n",
              "      <td>董貞</td>\n",
              "      <td>何啟弘</td>\n",
              "      <td>3.0</td>\n",
              "    </tr>\n",
              "    <tr>\n",
              "      <th>1</th>\n",
              "      <td>o0kFgae9QtnYgRkVPqLJwa05zIhRlUjfF7O1tDw0ZDU=</td>\n",
              "      <td>197328</td>\n",
              "      <td>444</td>\n",
              "      <td>BLACKPINK</td>\n",
              "      <td>TEDDY|  FUTURE BOUNCE|  Bekuh BOOM</td>\n",
              "      <td>TEDDY</td>\n",
              "      <td>31.0</td>\n",
              "    </tr>\n",
              "    <tr>\n",
              "      <th>2</th>\n",
              "      <td>DwVvVurfpuz+XPuFvucclVQEyPqcpUkHR0ne1RQzPs0=</td>\n",
              "      <td>231781</td>\n",
              "      <td>465</td>\n",
              "      <td>SUPER JUNIOR</td>\n",
              "      <td>NaN</td>\n",
              "      <td>NaN</td>\n",
              "      <td>31.0</td>\n",
              "    </tr>\n",
              "    <tr>\n",
              "      <th>3</th>\n",
              "      <td>dKMBWoZyScdxSkihKG+Vf47nc18N9q4m58+b4e7dSSE=</td>\n",
              "      <td>273554</td>\n",
              "      <td>465</td>\n",
              "      <td>S.H.E</td>\n",
              "      <td>湯小康</td>\n",
              "      <td>徐世珍</td>\n",
              "      <td>3.0</td>\n",
              "    </tr>\n",
              "    <tr>\n",
              "      <th>4</th>\n",
              "      <td>W3bqWd3T+VeHFzHAUfARgW9AvVRaF4N5Yzm4Mr6Eo/o=</td>\n",
              "      <td>140329</td>\n",
              "      <td>726</td>\n",
              "      <td>貴族精選</td>\n",
              "      <td>Traditional</td>\n",
              "      <td>Traditional</td>\n",
              "      <td>52.0</td>\n",
              "    </tr>\n",
              "  </tbody>\n",
              "</table>\n",
              "</div>"
            ],
            "text/plain": [
              "                                        song_id  ...  language\n",
              "0  CXoTN1eb7AI+DntdU1vbcwGRV4SCIDxZu+YD8JP8r4E=  ...       3.0\n",
              "1  o0kFgae9QtnYgRkVPqLJwa05zIhRlUjfF7O1tDw0ZDU=  ...      31.0\n",
              "2  DwVvVurfpuz+XPuFvucclVQEyPqcpUkHR0ne1RQzPs0=  ...      31.0\n",
              "3  dKMBWoZyScdxSkihKG+Vf47nc18N9q4m58+b4e7dSSE=  ...       3.0\n",
              "4  W3bqWd3T+VeHFzHAUfARgW9AvVRaF4N5Yzm4Mr6Eo/o=  ...      52.0\n",
              "\n",
              "[5 rows x 7 columns]"
            ]
          },
          "metadata": {
            "tags": []
          },
          "execution_count": 5
        }
      ]
    },
    {
      "cell_type": "code",
      "metadata": {
        "colab": {
          "base_uri": "https://localhost:8080/"
        },
        "id": "FYsR2O73ztHK",
        "outputId": "b21500ff-8477-456c-c5fd-df8af27fe59c"
      },
      "source": [
        "songs.shape"
      ],
      "execution_count": 6,
      "outputs": [
        {
          "output_type": "execute_result",
          "data": {
            "text/plain": [
              "(2296320, 7)"
            ]
          },
          "metadata": {
            "tags": []
          },
          "execution_count": 6
        }
      ]
    },
    {
      "cell_type": "code",
      "metadata": {
        "colab": {
          "base_uri": "https://localhost:8080/"
        },
        "id": "e5y_IoTuyTnB",
        "outputId": "368dd090-1c91-4dfc-d5f0-c2e79e42dd08"
      },
      "source": [
        "songs.isna().mean() # композитор и слова песни слишком часто Nan чтобы их не дропнуть"
      ],
      "execution_count": 7,
      "outputs": [
        {
          "output_type": "execute_result",
          "data": {
            "text/plain": [
              "song_id        0.000000e+00\n",
              "song_length    0.000000e+00\n",
              "genre_ids      4.098558e-02\n",
              "artist_name    0.000000e+00\n",
              "composer       4.665526e-01\n",
              "lyricist       8.471241e-01\n",
              "language       4.354794e-07\n",
              "dtype: float64"
            ]
          },
          "metadata": {
            "tags": []
          },
          "execution_count": 7
        }
      ]
    },
    {
      "cell_type": "code",
      "metadata": {
        "colab": {
          "base_uri": "https://localhost:8080/"
        },
        "id": "EUhNa6El1ge3",
        "outputId": "eda07eee-b302-4b87-ad13-39c8046dd4c6"
      },
      "source": [
        "songs.language.value_counts()"
      ],
      "execution_count": 8,
      "outputs": [
        {
          "output_type": "execute_result",
          "data": {
            "text/plain": [
              " 52.0    1336694\n",
              "-1.0      639467\n",
              " 3.0      106295\n",
              " 17.0      92518\n",
              " 24.0      41744\n",
              " 31.0      39201\n",
              " 10.0      15482\n",
              " 45.0      14435\n",
              " 59.0       8098\n",
              " 38.0       2385\n",
              "Name: language, dtype: int64"
            ]
          },
          "metadata": {
            "tags": []
          },
          "execution_count": 8
        }
      ]
    },
    {
      "cell_type": "code",
      "metadata": {
        "colab": {
          "base_uri": "https://localhost:8080/",
          "height": 204
        },
        "id": "QFlIhMGkwLo8",
        "outputId": "693536d9-c8d1-4138-fd01-2b0252fb0a1a"
      },
      "source": [
        "members = pd.read_csv(os.path.join(dir_name, \"members.csv\"))\n",
        "members.head()"
      ],
      "execution_count": null,
      "outputs": [
        {
          "output_type": "execute_result",
          "data": {
            "text/html": [
              "<div>\n",
              "<style scoped>\n",
              "    .dataframe tbody tr th:only-of-type {\n",
              "        vertical-align: middle;\n",
              "    }\n",
              "\n",
              "    .dataframe tbody tr th {\n",
              "        vertical-align: top;\n",
              "    }\n",
              "\n",
              "    .dataframe thead th {\n",
              "        text-align: right;\n",
              "    }\n",
              "</style>\n",
              "<table border=\"1\" class=\"dataframe\">\n",
              "  <thead>\n",
              "    <tr style=\"text-align: right;\">\n",
              "      <th></th>\n",
              "      <th>msno</th>\n",
              "      <th>city</th>\n",
              "      <th>bd</th>\n",
              "      <th>gender</th>\n",
              "      <th>registered_via</th>\n",
              "      <th>registration_init_time</th>\n",
              "      <th>expiration_date</th>\n",
              "    </tr>\n",
              "  </thead>\n",
              "  <tbody>\n",
              "    <tr>\n",
              "      <th>0</th>\n",
              "      <td>XQxgAYj3klVKjR3oxPPXYYFp4soD4TuBghkhMTD4oTw=</td>\n",
              "      <td>1</td>\n",
              "      <td>0</td>\n",
              "      <td>NaN</td>\n",
              "      <td>7</td>\n",
              "      <td>20110820</td>\n",
              "      <td>20170920</td>\n",
              "    </tr>\n",
              "    <tr>\n",
              "      <th>1</th>\n",
              "      <td>UizsfmJb9mV54qE9hCYyU07Va97c0lCRLEQX3ae+ztM=</td>\n",
              "      <td>1</td>\n",
              "      <td>0</td>\n",
              "      <td>NaN</td>\n",
              "      <td>7</td>\n",
              "      <td>20150628</td>\n",
              "      <td>20170622</td>\n",
              "    </tr>\n",
              "    <tr>\n",
              "      <th>2</th>\n",
              "      <td>D8nEhsIOBSoE6VthTaqDX8U6lqjJ7dLdr72mOyLya2A=</td>\n",
              "      <td>1</td>\n",
              "      <td>0</td>\n",
              "      <td>NaN</td>\n",
              "      <td>4</td>\n",
              "      <td>20160411</td>\n",
              "      <td>20170712</td>\n",
              "    </tr>\n",
              "    <tr>\n",
              "      <th>3</th>\n",
              "      <td>mCuD+tZ1hERA/o5GPqk38e041J8ZsBaLcu7nGoIIvhI=</td>\n",
              "      <td>1</td>\n",
              "      <td>0</td>\n",
              "      <td>NaN</td>\n",
              "      <td>9</td>\n",
              "      <td>20150906</td>\n",
              "      <td>20150907</td>\n",
              "    </tr>\n",
              "    <tr>\n",
              "      <th>4</th>\n",
              "      <td>q4HRBfVSssAFS9iRfxWrohxuk9kCYMKjHOEagUMV6rQ=</td>\n",
              "      <td>1</td>\n",
              "      <td>0</td>\n",
              "      <td>NaN</td>\n",
              "      <td>4</td>\n",
              "      <td>20170126</td>\n",
              "      <td>20170613</td>\n",
              "    </tr>\n",
              "  </tbody>\n",
              "</table>\n",
              "</div>"
            ],
            "text/plain": [
              "                                           msno  ...  expiration_date\n",
              "0  XQxgAYj3klVKjR3oxPPXYYFp4soD4TuBghkhMTD4oTw=  ...         20170920\n",
              "1  UizsfmJb9mV54qE9hCYyU07Va97c0lCRLEQX3ae+ztM=  ...         20170622\n",
              "2  D8nEhsIOBSoE6VthTaqDX8U6lqjJ7dLdr72mOyLya2A=  ...         20170712\n",
              "3  mCuD+tZ1hERA/o5GPqk38e041J8ZsBaLcu7nGoIIvhI=  ...         20150907\n",
              "4  q4HRBfVSssAFS9iRfxWrohxuk9kCYMKjHOEagUMV6rQ=  ...         20170613\n",
              "\n",
              "[5 rows x 7 columns]"
            ]
          },
          "metadata": {
            "tags": []
          },
          "execution_count": 59
        }
      ]
    },
    {
      "cell_type": "code",
      "metadata": {
        "colab": {
          "base_uri": "https://localhost:8080/"
        },
        "id": "SAdE5Nd1wi-F",
        "outputId": "17cc902f-7310-4983-a2a0-7267dfc13f54"
      },
      "source": [
        "members.shape"
      ],
      "execution_count": null,
      "outputs": [
        {
          "output_type": "execute_result",
          "data": {
            "text/plain": [
              "(34403, 7)"
            ]
          },
          "metadata": {
            "tags": []
          },
          "execution_count": 25
        }
      ]
    },
    {
      "cell_type": "code",
      "metadata": {
        "colab": {
          "base_uri": "https://localhost:8080/",
          "height": 204
        },
        "id": "PyiVbnXEz0iH",
        "outputId": "340d3bd0-8761-4f61-ed73-0859c108f773"
      },
      "source": [
        "test = pd.read_csv(os.path.join(dir_name, \"test.csv\"))\n",
        "test.head()"
      ],
      "execution_count": null,
      "outputs": [
        {
          "output_type": "execute_result",
          "data": {
            "text/html": [
              "<div>\n",
              "<style scoped>\n",
              "    .dataframe tbody tr th:only-of-type {\n",
              "        vertical-align: middle;\n",
              "    }\n",
              "\n",
              "    .dataframe tbody tr th {\n",
              "        vertical-align: top;\n",
              "    }\n",
              "\n",
              "    .dataframe thead th {\n",
              "        text-align: right;\n",
              "    }\n",
              "</style>\n",
              "<table border=\"1\" class=\"dataframe\">\n",
              "  <thead>\n",
              "    <tr style=\"text-align: right;\">\n",
              "      <th></th>\n",
              "      <th>id</th>\n",
              "      <th>msno</th>\n",
              "      <th>song_id</th>\n",
              "      <th>source_system_tab</th>\n",
              "      <th>source_screen_name</th>\n",
              "      <th>source_type</th>\n",
              "    </tr>\n",
              "  </thead>\n",
              "  <tbody>\n",
              "    <tr>\n",
              "      <th>0</th>\n",
              "      <td>0</td>\n",
              "      <td>V8ruy7SGk7tDm3zA51DPpn6qutt+vmKMBKa21dp54uM=</td>\n",
              "      <td>WmHKgKMlp1lQMecNdNvDMkvIycZYHnFwDT72I5sIssc=</td>\n",
              "      <td>my library</td>\n",
              "      <td>Local playlist more</td>\n",
              "      <td>local-library</td>\n",
              "    </tr>\n",
              "    <tr>\n",
              "      <th>1</th>\n",
              "      <td>1</td>\n",
              "      <td>V8ruy7SGk7tDm3zA51DPpn6qutt+vmKMBKa21dp54uM=</td>\n",
              "      <td>y/rsZ9DC7FwK5F2PK2D5mj+aOBUJAjuu3dZ14NgE0vM=</td>\n",
              "      <td>my library</td>\n",
              "      <td>Local playlist more</td>\n",
              "      <td>local-library</td>\n",
              "    </tr>\n",
              "    <tr>\n",
              "      <th>2</th>\n",
              "      <td>2</td>\n",
              "      <td>/uQAlrAkaczV+nWCd2sPF2ekvXPRipV7q0l+gbLuxjw=</td>\n",
              "      <td>8eZLFOdGVdXBSqoAv5nsLigeH2BvKXzTQYtUM53I0k4=</td>\n",
              "      <td>discover</td>\n",
              "      <td>NaN</td>\n",
              "      <td>song-based-playlist</td>\n",
              "    </tr>\n",
              "    <tr>\n",
              "      <th>3</th>\n",
              "      <td>3</td>\n",
              "      <td>1a6oo/iXKatxQx4eS9zTVD+KlSVaAFbTIqVvwLC1Y0k=</td>\n",
              "      <td>ztCf8thYsS4YN3GcIL/bvoxLm/T5mYBVKOO4C9NiVfQ=</td>\n",
              "      <td>radio</td>\n",
              "      <td>Radio</td>\n",
              "      <td>radio</td>\n",
              "    </tr>\n",
              "    <tr>\n",
              "      <th>4</th>\n",
              "      <td>4</td>\n",
              "      <td>1a6oo/iXKatxQx4eS9zTVD+KlSVaAFbTIqVvwLC1Y0k=</td>\n",
              "      <td>MKVMpslKcQhMaFEgcEQhEfi5+RZhMYlU3eRDpySrH8Y=</td>\n",
              "      <td>radio</td>\n",
              "      <td>Radio</td>\n",
              "      <td>radio</td>\n",
              "    </tr>\n",
              "  </tbody>\n",
              "</table>\n",
              "</div>"
            ],
            "text/plain": [
              "   id  ...          source_type\n",
              "0   0  ...        local-library\n",
              "1   1  ...        local-library\n",
              "2   2  ...  song-based-playlist\n",
              "3   3  ...                radio\n",
              "4   4  ...                radio\n",
              "\n",
              "[5 rows x 6 columns]"
            ]
          },
          "metadata": {
            "tags": []
          },
          "execution_count": 5
        }
      ]
    },
    {
      "cell_type": "code",
      "metadata": {
        "id": "EcWvZlPO-rz6"
      },
      "source": [
        ""
      ],
      "execution_count": null,
      "outputs": []
    },
    {
      "cell_type": "code",
      "metadata": {
        "id": "sxAPNHT--r2H"
      },
      "source": [
        ""
      ],
      "execution_count": null,
      "outputs": []
    },
    {
      "cell_type": "markdown",
      "metadata": {
        "id": "BJsiJLey2feO"
      },
      "source": [
        "Предобрадотаем информацию о песнях"
      ]
    },
    {
      "cell_type": "code",
      "metadata": {
        "colab": {
          "base_uri": "https://localhost:8080/"
        },
        "id": "6PVhnWj323gY",
        "outputId": "6d9ca705-c6d2-4ecd-eddb-4df3f2f0325c"
      },
      "source": [
        "songs.isna().sum(axis=0)"
      ],
      "execution_count": 9,
      "outputs": [
        {
          "output_type": "execute_result",
          "data": {
            "text/plain": [
              "song_id              0\n",
              "song_length          0\n",
              "genre_ids        94116\n",
              "artist_name          0\n",
              "composer       1071354\n",
              "lyricist       1945268\n",
              "language             1\n",
              "dtype: int64"
            ]
          },
          "metadata": {
            "tags": []
          },
          "execution_count": 9
        }
      ]
    },
    {
      "cell_type": "code",
      "metadata": {
        "id": "MUh0y1OP0YdJ"
      },
      "source": [
        "songs_usefull = songs.drop(labels=['composer', 'lyricist'], axis='columns')"
      ],
      "execution_count": 10,
      "outputs": []
    },
    {
      "cell_type": "code",
      "metadata": {
        "colab": {
          "base_uri": "https://localhost:8080/"
        },
        "id": "LiY99RnM1KSo",
        "outputId": "7c558995-6efc-4182-dda8-5d32e556d865"
      },
      "source": [
        "songs_usefull.language.unique()"
      ],
      "execution_count": 11,
      "outputs": [
        {
          "output_type": "execute_result",
          "data": {
            "text/plain": [
              "array([ 3., 31., 52., 17., 10., -1., 24., 59., 45., 38., nan])"
            ]
          },
          "metadata": {
            "tags": []
          },
          "execution_count": 11
        }
      ]
    },
    {
      "cell_type": "code",
      "metadata": {
        "id": "vxKv2yT11OYU"
      },
      "source": [
        "songs_usefull.language.fillna(value=-1, inplace=True)"
      ],
      "execution_count": 12,
      "outputs": []
    },
    {
      "cell_type": "code",
      "metadata": {
        "colab": {
          "base_uri": "https://localhost:8080/"
        },
        "id": "AdN6paaa13ji",
        "outputId": "4187b656-8bef-4dea-d593-3030fc802586"
      },
      "source": [
        "songs_usefull.genre_ids.unique()"
      ],
      "execution_count": 13,
      "outputs": [
        {
          "output_type": "execute_result",
          "data": {
            "text/plain": [
              "array(['465', '444', '726', ..., '786|958|2022', '1259|2107', '1138|2022'],\n",
              "      dtype=object)"
            ]
          },
          "metadata": {
            "tags": []
          },
          "execution_count": 13
        }
      ]
    },
    {
      "cell_type": "code",
      "metadata": {
        "id": "jPDqVwW217a5"
      },
      "source": [
        "songs_usefull.genre_ids = songs_usefull.genre_ids.apply(lambda x: x.split('|') if type(x) == str else [])"
      ],
      "execution_count": 14,
      "outputs": []
    },
    {
      "cell_type": "code",
      "metadata": {
        "colab": {
          "base_uri": "https://localhost:8080/",
          "height": 204
        },
        "id": "hPh73-NN2X0S",
        "outputId": "3b80bb89-6eef-4cf4-dfd3-bfb78abb105e"
      },
      "source": [
        "songs_usefull.head()"
      ],
      "execution_count": 15,
      "outputs": [
        {
          "output_type": "execute_result",
          "data": {
            "text/html": [
              "<div>\n",
              "<style scoped>\n",
              "    .dataframe tbody tr th:only-of-type {\n",
              "        vertical-align: middle;\n",
              "    }\n",
              "\n",
              "    .dataframe tbody tr th {\n",
              "        vertical-align: top;\n",
              "    }\n",
              "\n",
              "    .dataframe thead th {\n",
              "        text-align: right;\n",
              "    }\n",
              "</style>\n",
              "<table border=\"1\" class=\"dataframe\">\n",
              "  <thead>\n",
              "    <tr style=\"text-align: right;\">\n",
              "      <th></th>\n",
              "      <th>song_id</th>\n",
              "      <th>song_length</th>\n",
              "      <th>genre_ids</th>\n",
              "      <th>artist_name</th>\n",
              "      <th>language</th>\n",
              "    </tr>\n",
              "  </thead>\n",
              "  <tbody>\n",
              "    <tr>\n",
              "      <th>0</th>\n",
              "      <td>CXoTN1eb7AI+DntdU1vbcwGRV4SCIDxZu+YD8JP8r4E=</td>\n",
              "      <td>247640</td>\n",
              "      <td>[465]</td>\n",
              "      <td>張信哲 (Jeff Chang)</td>\n",
              "      <td>3.0</td>\n",
              "    </tr>\n",
              "    <tr>\n",
              "      <th>1</th>\n",
              "      <td>o0kFgae9QtnYgRkVPqLJwa05zIhRlUjfF7O1tDw0ZDU=</td>\n",
              "      <td>197328</td>\n",
              "      <td>[444]</td>\n",
              "      <td>BLACKPINK</td>\n",
              "      <td>31.0</td>\n",
              "    </tr>\n",
              "    <tr>\n",
              "      <th>2</th>\n",
              "      <td>DwVvVurfpuz+XPuFvucclVQEyPqcpUkHR0ne1RQzPs0=</td>\n",
              "      <td>231781</td>\n",
              "      <td>[465]</td>\n",
              "      <td>SUPER JUNIOR</td>\n",
              "      <td>31.0</td>\n",
              "    </tr>\n",
              "    <tr>\n",
              "      <th>3</th>\n",
              "      <td>dKMBWoZyScdxSkihKG+Vf47nc18N9q4m58+b4e7dSSE=</td>\n",
              "      <td>273554</td>\n",
              "      <td>[465]</td>\n",
              "      <td>S.H.E</td>\n",
              "      <td>3.0</td>\n",
              "    </tr>\n",
              "    <tr>\n",
              "      <th>4</th>\n",
              "      <td>W3bqWd3T+VeHFzHAUfARgW9AvVRaF4N5Yzm4Mr6Eo/o=</td>\n",
              "      <td>140329</td>\n",
              "      <td>[726]</td>\n",
              "      <td>貴族精選</td>\n",
              "      <td>52.0</td>\n",
              "    </tr>\n",
              "  </tbody>\n",
              "</table>\n",
              "</div>"
            ],
            "text/plain": [
              "                                        song_id  ...  language\n",
              "0  CXoTN1eb7AI+DntdU1vbcwGRV4SCIDxZu+YD8JP8r4E=  ...       3.0\n",
              "1  o0kFgae9QtnYgRkVPqLJwa05zIhRlUjfF7O1tDw0ZDU=  ...      31.0\n",
              "2  DwVvVurfpuz+XPuFvucclVQEyPqcpUkHR0ne1RQzPs0=  ...      31.0\n",
              "3  dKMBWoZyScdxSkihKG+Vf47nc18N9q4m58+b4e7dSSE=  ...       3.0\n",
              "4  W3bqWd3T+VeHFzHAUfARgW9AvVRaF4N5Yzm4Mr6Eo/o=  ...      52.0\n",
              "\n",
              "[5 rows x 5 columns]"
            ]
          },
          "metadata": {
            "tags": []
          },
          "execution_count": 15
        }
      ]
    },
    {
      "cell_type": "code",
      "metadata": {
        "colab": {
          "base_uri": "https://localhost:8080/"
        },
        "id": "V69FKiSQ28Ew",
        "outputId": "df3064b2-88de-4cec-f7cf-ae1cd6236575"
      },
      "source": [
        "songs_usefull.isna().sum(axis=0)"
      ],
      "execution_count": 16,
      "outputs": [
        {
          "output_type": "execute_result",
          "data": {
            "text/plain": [
              "song_id        0\n",
              "song_length    0\n",
              "genre_ids      0\n",
              "artist_name    0\n",
              "language       0\n",
              "dtype: int64"
            ]
          },
          "metadata": {
            "tags": []
          },
          "execution_count": 16
        }
      ]
    },
    {
      "cell_type": "code",
      "metadata": {
        "id": "Ex_VGX-MK2By"
      },
      "source": [
        "del songs"
      ],
      "execution_count": 17,
      "outputs": []
    },
    {
      "cell_type": "markdown",
      "metadata": {
        "id": "EkJjcCKa3NvP"
      },
      "source": [
        "Предобработает тренировочные данные"
      ]
    },
    {
      "cell_type": "code",
      "metadata": {
        "colab": {
          "base_uri": "https://localhost:8080/",
          "height": 204
        },
        "id": "dyfkYa3N3BRa",
        "outputId": "3cf531dc-e24c-4a78-ed2d-e333cd8a4db2"
      },
      "source": [
        "train.head()"
      ],
      "execution_count": 18,
      "outputs": [
        {
          "output_type": "execute_result",
          "data": {
            "text/html": [
              "<div>\n",
              "<style scoped>\n",
              "    .dataframe tbody tr th:only-of-type {\n",
              "        vertical-align: middle;\n",
              "    }\n",
              "\n",
              "    .dataframe tbody tr th {\n",
              "        vertical-align: top;\n",
              "    }\n",
              "\n",
              "    .dataframe thead th {\n",
              "        text-align: right;\n",
              "    }\n",
              "</style>\n",
              "<table border=\"1\" class=\"dataframe\">\n",
              "  <thead>\n",
              "    <tr style=\"text-align: right;\">\n",
              "      <th></th>\n",
              "      <th>msno</th>\n",
              "      <th>song_id</th>\n",
              "      <th>source_system_tab</th>\n",
              "      <th>source_screen_name</th>\n",
              "      <th>source_type</th>\n",
              "      <th>target</th>\n",
              "    </tr>\n",
              "  </thead>\n",
              "  <tbody>\n",
              "    <tr>\n",
              "      <th>0</th>\n",
              "      <td>FGtllVqz18RPiwJj/edr2gV78zirAiY/9SmYvia+kCg=</td>\n",
              "      <td>BBzumQNXUHKdEBOB7mAJuzok+IJA1c2Ryg/yzTF6tik=</td>\n",
              "      <td>explore</td>\n",
              "      <td>Explore</td>\n",
              "      <td>online-playlist</td>\n",
              "      <td>1</td>\n",
              "    </tr>\n",
              "    <tr>\n",
              "      <th>1</th>\n",
              "      <td>Xumu+NIjS6QYVxDS4/t3SawvJ7viT9hPKXmf0RtLNx8=</td>\n",
              "      <td>bhp/MpSNoqoxOIB+/l8WPqu6jldth4DIpCm3ayXnJqM=</td>\n",
              "      <td>my library</td>\n",
              "      <td>Local playlist more</td>\n",
              "      <td>local-playlist</td>\n",
              "      <td>1</td>\n",
              "    </tr>\n",
              "    <tr>\n",
              "      <th>2</th>\n",
              "      <td>Xumu+NIjS6QYVxDS4/t3SawvJ7viT9hPKXmf0RtLNx8=</td>\n",
              "      <td>JNWfrrC7zNN7BdMpsISKa4Mw+xVJYNnxXh3/Epw7QgY=</td>\n",
              "      <td>my library</td>\n",
              "      <td>Local playlist more</td>\n",
              "      <td>local-playlist</td>\n",
              "      <td>1</td>\n",
              "    </tr>\n",
              "    <tr>\n",
              "      <th>3</th>\n",
              "      <td>Xumu+NIjS6QYVxDS4/t3SawvJ7viT9hPKXmf0RtLNx8=</td>\n",
              "      <td>2A87tzfnJTSWqD7gIZHisolhe4DMdzkbd6LzO1KHjNs=</td>\n",
              "      <td>my library</td>\n",
              "      <td>Local playlist more</td>\n",
              "      <td>local-playlist</td>\n",
              "      <td>1</td>\n",
              "    </tr>\n",
              "    <tr>\n",
              "      <th>4</th>\n",
              "      <td>FGtllVqz18RPiwJj/edr2gV78zirAiY/9SmYvia+kCg=</td>\n",
              "      <td>3qm6XTZ6MOCU11x8FIVbAGH5l5uMkT3/ZalWG1oo2Gc=</td>\n",
              "      <td>explore</td>\n",
              "      <td>Explore</td>\n",
              "      <td>online-playlist</td>\n",
              "      <td>1</td>\n",
              "    </tr>\n",
              "  </tbody>\n",
              "</table>\n",
              "</div>"
            ],
            "text/plain": [
              "                                           msno  ... target\n",
              "0  FGtllVqz18RPiwJj/edr2gV78zirAiY/9SmYvia+kCg=  ...      1\n",
              "1  Xumu+NIjS6QYVxDS4/t3SawvJ7viT9hPKXmf0RtLNx8=  ...      1\n",
              "2  Xumu+NIjS6QYVxDS4/t3SawvJ7viT9hPKXmf0RtLNx8=  ...      1\n",
              "3  Xumu+NIjS6QYVxDS4/t3SawvJ7viT9hPKXmf0RtLNx8=  ...      1\n",
              "4  FGtllVqz18RPiwJj/edr2gV78zirAiY/9SmYvia+kCg=  ...      1\n",
              "\n",
              "[5 rows x 6 columns]"
            ]
          },
          "metadata": {
            "tags": []
          },
          "execution_count": 18
        }
      ]
    },
    {
      "cell_type": "code",
      "metadata": {
        "colab": {
          "base_uri": "https://localhost:8080/"
        },
        "id": "L9gbpduV31Q_",
        "outputId": "9fb42d19-f5f9-42b2-8ae5-de60f604a3d0"
      },
      "source": [
        "train.isna().mean(axis=0)"
      ],
      "execution_count": 19,
      "outputs": [
        {
          "output_type": "execute_result",
          "data": {
            "text/plain": [
              "msno                  0.000000\n",
              "song_id               0.000000\n",
              "source_system_tab     0.003368\n",
              "source_screen_name    0.056226\n",
              "source_type           0.002920\n",
              "target                0.000000\n",
              "dtype: float64"
            ]
          },
          "metadata": {
            "tags": []
          },
          "execution_count": 19
        }
      ]
    },
    {
      "cell_type": "code",
      "metadata": {
        "id": "1Sp-aX2S3Qy6"
      },
      "source": [
        "train.drop(labels=['source_system_tab', 'source_screen_name', 'source_type'], axis='columns', inplace=True)"
      ],
      "execution_count": 20,
      "outputs": []
    },
    {
      "cell_type": "markdown",
      "metadata": {
        "id": "KT4teswy3k4f"
      },
      "source": [
        "Сделаем данные для обучения"
      ]
    },
    {
      "cell_type": "code",
      "metadata": {
        "colab": {
          "base_uri": "https://localhost:8080/"
        },
        "id": "INaoPSuW3pqO",
        "outputId": "b9e93097-a719-41e5-e442-06e3040a343c"
      },
      "source": [
        "df = train.merge(songs_usefull, on='song_id', how='inner')\n",
        "df.isna().sum(axis=0)"
      ],
      "execution_count": 21,
      "outputs": [
        {
          "output_type": "execute_result",
          "data": {
            "text/plain": [
              "msno           0\n",
              "song_id        0\n",
              "target         0\n",
              "song_length    0\n",
              "genre_ids      0\n",
              "artist_name    0\n",
              "language       0\n",
              "dtype: int64"
            ]
          },
          "metadata": {
            "tags": []
          },
          "execution_count": 21
        }
      ]
    },
    {
      "cell_type": "code",
      "metadata": {
        "colab": {
          "base_uri": "https://localhost:8080/",
          "height": 204
        },
        "id": "kRXJjFJrUsY7",
        "outputId": "d9ff10df-4a92-4e92-cb8b-8ab4720946c2"
      },
      "source": [
        "df.head()"
      ],
      "execution_count": 22,
      "outputs": [
        {
          "output_type": "execute_result",
          "data": {
            "text/html": [
              "<div>\n",
              "<style scoped>\n",
              "    .dataframe tbody tr th:only-of-type {\n",
              "        vertical-align: middle;\n",
              "    }\n",
              "\n",
              "    .dataframe tbody tr th {\n",
              "        vertical-align: top;\n",
              "    }\n",
              "\n",
              "    .dataframe thead th {\n",
              "        text-align: right;\n",
              "    }\n",
              "</style>\n",
              "<table border=\"1\" class=\"dataframe\">\n",
              "  <thead>\n",
              "    <tr style=\"text-align: right;\">\n",
              "      <th></th>\n",
              "      <th>msno</th>\n",
              "      <th>song_id</th>\n",
              "      <th>target</th>\n",
              "      <th>song_length</th>\n",
              "      <th>genre_ids</th>\n",
              "      <th>artist_name</th>\n",
              "      <th>language</th>\n",
              "    </tr>\n",
              "  </thead>\n",
              "  <tbody>\n",
              "    <tr>\n",
              "      <th>0</th>\n",
              "      <td>FGtllVqz18RPiwJj/edr2gV78zirAiY/9SmYvia+kCg=</td>\n",
              "      <td>BBzumQNXUHKdEBOB7mAJuzok+IJA1c2Ryg/yzTF6tik=</td>\n",
              "      <td>1</td>\n",
              "      <td>206471</td>\n",
              "      <td>[359]</td>\n",
              "      <td>Bastille</td>\n",
              "      <td>52.0</td>\n",
              "    </tr>\n",
              "    <tr>\n",
              "      <th>1</th>\n",
              "      <td>e5Ezre9HPuPos+CXQXtmo32E/hHIZTMmo6jG3yRf6UA=</td>\n",
              "      <td>BBzumQNXUHKdEBOB7mAJuzok+IJA1c2Ryg/yzTF6tik=</td>\n",
              "      <td>1</td>\n",
              "      <td>206471</td>\n",
              "      <td>[359]</td>\n",
              "      <td>Bastille</td>\n",
              "      <td>52.0</td>\n",
              "    </tr>\n",
              "    <tr>\n",
              "      <th>2</th>\n",
              "      <td>pouJqjNRmZOnRNzzMWWkamTKkIGHyvhl/jo4HgbncnM=</td>\n",
              "      <td>BBzumQNXUHKdEBOB7mAJuzok+IJA1c2Ryg/yzTF6tik=</td>\n",
              "      <td>0</td>\n",
              "      <td>206471</td>\n",
              "      <td>[359]</td>\n",
              "      <td>Bastille</td>\n",
              "      <td>52.0</td>\n",
              "    </tr>\n",
              "    <tr>\n",
              "      <th>3</th>\n",
              "      <td>sSexP400TJOZRhx3JB+0s9cqrCnqrlV51B9njoKR1II=</td>\n",
              "      <td>BBzumQNXUHKdEBOB7mAJuzok+IJA1c2Ryg/yzTF6tik=</td>\n",
              "      <td>0</td>\n",
              "      <td>206471</td>\n",
              "      <td>[359]</td>\n",
              "      <td>Bastille</td>\n",
              "      <td>52.0</td>\n",
              "    </tr>\n",
              "    <tr>\n",
              "      <th>4</th>\n",
              "      <td>hKdGiUKHVqKkXGHLrc+EzdSW6q0ERAJ2Cs7/L1N0Ae4=</td>\n",
              "      <td>BBzumQNXUHKdEBOB7mAJuzok+IJA1c2Ryg/yzTF6tik=</td>\n",
              "      <td>0</td>\n",
              "      <td>206471</td>\n",
              "      <td>[359]</td>\n",
              "      <td>Bastille</td>\n",
              "      <td>52.0</td>\n",
              "    </tr>\n",
              "  </tbody>\n",
              "</table>\n",
              "</div>"
            ],
            "text/plain": [
              "                                           msno  ... language\n",
              "0  FGtllVqz18RPiwJj/edr2gV78zirAiY/9SmYvia+kCg=  ...     52.0\n",
              "1  e5Ezre9HPuPos+CXQXtmo32E/hHIZTMmo6jG3yRf6UA=  ...     52.0\n",
              "2  pouJqjNRmZOnRNzzMWWkamTKkIGHyvhl/jo4HgbncnM=  ...     52.0\n",
              "3  sSexP400TJOZRhx3JB+0s9cqrCnqrlV51B9njoKR1II=  ...     52.0\n",
              "4  hKdGiUKHVqKkXGHLrc+EzdSW6q0ERAJ2Cs7/L1N0Ae4=  ...     52.0\n",
              "\n",
              "[5 rows x 7 columns]"
            ]
          },
          "metadata": {
            "tags": []
          },
          "execution_count": 22
        }
      ]
    },
    {
      "cell_type": "code",
      "metadata": {
        "id": "P7B1-Uv8JZ81"
      },
      "source": [
        "# вспомогательная функция чтобы преобразовать genre1|genre2|genre3 в 3 отдельные строки dataframe'а с соотв. жанрами\n",
        "def split_genres(train_df):\n",
        "  new_rows = []\n",
        "  for index, row in train_df.iterrows():\n",
        "    rows_copy = [copy.deepcopy(row) for _ in row.genre_ids]\n",
        "    for i, row in enumerate(rows_copy):\n",
        "      row.genre_ids = row.genre_ids[i]\n",
        "    new_rows += rows_copy\n",
        "  return pd.DataFrame.from_records(new_rows)"
      ],
      "execution_count": 49,
      "outputs": []
    },
    {
      "cell_type": "code",
      "metadata": {
        "id": "F9eqOQ2JXKIB"
      },
      "source": [
        "# предпочтения пользователей по жанрам - для каждого пользователя считается распределение по жанрам и сколько каждого из них он слушал\n",
        "def make_genres_features(train_df):\n",
        "  single_genre = train_df[train_df.genre_ids.str.len() == 1].copy()\n",
        "  single_genre.genre_ids = single_genre.genre_ids.apply(lambda x: x[0])\n",
        "  train_df = split_genres(train_df[train_df.genre_ids.str.len() > 1])\n",
        "  train_df = train_df.append(single_genre, ignore_index=True)\n",
        "  \n",
        "  user_genres = train_df.groupby([\"msno\", \"genre_ids\"])\n",
        "  user_genres_pos = user_genres.target.sum()\n",
        "  user_genres_mean = user_genres.target.mean()\n",
        "  return user_genres_pos, user_genres_mean"
      ],
      "execution_count": 50,
      "outputs": []
    },
    {
      "cell_type": "code",
      "metadata": {
        "id": "foC7jE7tXPR6"
      },
      "source": [
        "# фичи связанные с языком - распределение по языкам для каждого пользователя и сколько в абсолютной величине он слушал песен на каждом языке\n",
        "def make_language_features(train_df):\n",
        "  user_language = train_df.groupby([\"msno\", \"language\"])\n",
        "  user_language_sum = user_language.target.sum()\n",
        "  user_language_mean = user_language.target.mean()\n",
        "  return user_language_sum, user_language_mean"
      ],
      "execution_count": 51,
      "outputs": []
    },
    {
      "cell_type": "code",
      "metadata": {
        "id": "8e-9OEAPO9UJ"
      },
      "source": [
        "# средняя продолжительность песен которые слушал пользователь\n",
        "def make_duration_features(train_df):\n",
        "  return train_df[train_df.target == 1].groupby('msno').song_length.mean()"
      ],
      "execution_count": 52,
      "outputs": []
    },
    {
      "cell_type": "code",
      "metadata": {
        "id": "Cj5eEM6FPqjQ"
      },
      "source": [
        "# строиться распределение исполнителей для каждого пользователя\n",
        "def make_artist_features(train_df):\n",
        "  user_artist_cnt = train_df.groupby(['msno', 'artist_name']).size()\n",
        "  n_user_listenings = train_df.groupby('msno').size()\n",
        "  return user_artist_cnt / n_user_listenings"
      ],
      "execution_count": 53,
      "outputs": []
    },
    {
      "cell_type": "code",
      "metadata": {
        "id": "tx-6dsl0JNRO"
      },
      "source": [
        "# основная функция для создания фичей\n",
        "def make_features(train_df):\n",
        "  user_genres_sum, user_genres_mean = make_genres_features(train_df)\n",
        "  user_language_sum, user_language_mean = make_language_features(train_df)\n",
        "  mean_dur_of_pos_songs = make_duration_features(train_df)\n",
        "  user_artist_prob = make_artist_features(train_df)\n",
        "  return user_genres_sum, user_genres_mean, user_language_sum, user_language_mean, mean_dur_of_pos_songs, user_artist_prob"
      ],
      "execution_count": 54,
      "outputs": []
    },
    {
      "cell_type": "code",
      "metadata": {
        "id": "5bOxI4uYhGRt"
      },
      "source": [
        "def transform_features(df, user_genres_sum, user_genres_mean, user_language_sum, user_language_mean, mean_dur_of_pos_songs, user_artist_prob):\n",
        "  rev_index = {index: i for i, index in enumerate(user_genres_sum.index)} # брать .iloc[key_to_index_dict.get(key)] быстрее чем аналогичный .loc[key]\n",
        "  rev_index2 = {index: i for i, index in enumerate(user_genres_mean.index)}\n",
        "  rev_index3 = {index: i for i, index in enumerate(user_language_sum.index)}\n",
        "  rev_index4 = {index: i for i, index in enumerate(user_language_mean.index)}\n",
        "  rev_index5 = {index: i for i, index in enumerate(mean_dur_of_pos_songs.index)}\n",
        "  rev_index6 = {index: i for i, index in enumerate(user_artist_prob.index)}\n",
        "  \n",
        "  \n",
        "  user_genres_mean_sum_features = []\n",
        "  user_genres_mean_mean_features = []\n",
        "  user_genres_max_sum_features = []\n",
        "  user_genres_max_mean_features = []\n",
        "  user_language_sum_features = []\n",
        "  user_language_mean_features = []\n",
        "  user_dur_features = []\n",
        "  user_artist_features = []\n",
        "\n",
        "  \n",
        "  for index, row in df.iterrows():\n",
        "    msno = row.msno\n",
        "    language = row.language\n",
        "    # 2 способа агрегировать жанры: усреднение и максимум\n",
        "    genre_mean_sum = 0\n",
        "    genre_mean_mean = 0\n",
        "    genre_max_sum = 0\n",
        "    genre_max_mean = 0\n",
        "    for genre in row.genre_ids:\n",
        "      sum_ = user_genres_sum.iloc[rev_index.get((msno, genre), 0)]\n",
        "      mean_ =  user_genres_mean.iloc[rev_index2.get((msno, genre), 0)]\n",
        "      genre_mean_sum += sum_\n",
        "      genre_mean_mean += mean_\n",
        "      genre_max_sum = max(genre_max_sum, sum_)\n",
        "      genre_max_mean = max(genre_max_mean, mean_)\n",
        "      \n",
        "    n_genres = len(row.genre_ids)\n",
        "    if n_genres != 0:\n",
        "      genre_mean_sum /= n_genres\n",
        "      genre_mean_mean /= n_genres\n",
        "    user_genres_mean_sum_features.append(genre_mean_sum)\n",
        "    user_genres_mean_mean_features.append(genre_mean_mean)\n",
        "    user_genres_max_sum_features.append(genre_max_sum)\n",
        "    user_genres_max_mean_features.append(genre_max_mean)\n",
        "\n",
        "\n",
        "    user_language_sum_features.append(user_language_sum.iloc[rev_index3.get((msno, language), 0)])\n",
        "    user_language_mean_features.append(user_language_mean.iloc[rev_index4.get((msno, language), 0)])\n",
        "    duration_diff = abs(row.song_length  - mean_dur_of_pos_songs.iloc[rev_index5.get(msno, 0)])\n",
        "    user_dur_features.append(duration_diff)\n",
        "    user_artist_features.append(user_artist_prob.iloc[rev_index6.get((msno, row.artist_name), 0)])\n",
        "\n",
        "  df['user_language_sum'] = user_language_sum_features\n",
        "  df['user_language_mean'] = user_language_mean_features\n",
        "  df['user_genres_mean_sum'] = user_genres_mean_sum_features\n",
        "  df['user_genres_mean_mean'] = user_genres_mean_mean_features\n",
        "  df['user_genres_max_sum'] = user_genres_max_sum_features\n",
        "  df['user_genres_max_mean'] = user_genres_max_mean_features\n",
        "  df['dur_diff'] = user_dur_features\n",
        "  df['user_artist'] = user_artist_features\n",
        "  df.drop(['song_length', 'genre_ids', 'language'], axis='columns', inplace=True)\n",
        "  return df"
      ],
      "execution_count": 55,
      "outputs": []
    },
    {
      "cell_type": "code",
      "metadata": {
        "id": "lfuJOIYuud2W"
      },
      "source": [
        "def train_model(train_features, test_features, cat_features, verbose=10):\n",
        "  model = CatBoostClassifier(iterations=100, \n",
        "                             learning_rate=0.05,\n",
        "                             depth=5,\n",
        "                             loss_function='Logloss',\n",
        "                             eval_metric='AUC', \n",
        "                             verbose=10,\n",
        "                             l2_leaf_reg=10)\n",
        "  \n",
        "  train_pool = Pool(train_features.drop(['target'], axis='columns'), train_features.target, cat_features=cat_features)\n",
        "  test_pool = Pool(test_features.drop(['target'], axis='columns'), test_features.target, cat_features=cat_features)\n",
        "  \n",
        "  train_data, train_labels = train_features.drop(['target'], axis='columns'), train_features.target\n",
        "  \n",
        "  return model.fit(train_data, train_labels, cat_features, verbose_eval=verbose, eval_set=[train_pool, test_pool], early_stopping_rounds=20)"
      ],
      "execution_count": 113,
      "outputs": []
    },
    {
      "cell_type": "markdown",
      "metadata": {
        "id": "0JgvPgDUdznH"
      },
      "source": [
        "Посмотрим на полезность фичей на одном из сплитов, посчитаем итоговую метрику по всему cv только на полезный фичах"
      ]
    },
    {
      "cell_type": "code",
      "metadata": {
        "colab": {
          "base_uri": "https://localhost:8080/"
        },
        "id": "bXWQM3eFhAu1",
        "outputId": "d1dad405-0d38-4d75-8cce-08aec9851c70"
      },
      "source": [
        "k = 5\n",
        "kf = KFold(n_splits=k)\n",
        "mean_auc = 0\n",
        "for train_index, val_index in kf.split(df):\n",
        "  train_df = df.iloc[train_index].copy()\n",
        "  test_df = df.iloc[val_index].copy()\n",
        "\n",
        "  user_genres_pos, user_genres_mean, user_language_sum, user_language_mean, mean_dur_of_pos_songs, user_artist_prob = make_features(train_df)\n",
        "  train_features = transform_features(train_df, user_genres_pos, user_genres_mean, user_language_sum, user_language_mean, mean_dur_of_pos_songs, user_artist_prob)\n",
        "  test_features = transform_features(test_df, user_genres_pos, user_genres_mean, user_language_sum, user_language_mean, mean_dur_of_pos_songs, user_artist_prob)\n",
        "  break\n",
        "\n",
        "model = train_model(train_features, test_features, cat_features=[0, 1, 2])"
      ],
      "execution_count": 58,
      "outputs": [
        {
          "output_type": "stream",
          "text": [
            "0:\ttest: 0.7635547\ttest1: 0.7023083\tbest: 0.7023083 (0)\ttotal: 2.14s\tremaining: 3m 32s\n",
            "10:\ttest: 0.7762505\ttest1: 0.7098187\tbest: 0.7098187 (10)\ttotal: 18.7s\tremaining: 2m 31s\n",
            "20:\ttest: 0.7775167\ttest1: 0.7097765\tbest: 0.7099999 (18)\ttotal: 36.4s\tremaining: 2m 17s\n",
            "30:\ttest: 0.7818141\ttest1: 0.7117323\tbest: 0.7117588 (29)\ttotal: 55.1s\tremaining: 2m 2s\n",
            "40:\ttest: 0.7836655\ttest1: 0.7127234\tbest: 0.7127234 (40)\ttotal: 1m 13s\tremaining: 1m 46s\n",
            "50:\ttest: 0.7897585\ttest1: 0.7130030\tbest: 0.7130030 (50)\ttotal: 1m 33s\tremaining: 1m 29s\n",
            "60:\ttest: 0.7930184\ttest1: 0.7132440\tbest: 0.7132440 (60)\ttotal: 1m 52s\tremaining: 1m 12s\n",
            "70:\ttest: 0.7949883\ttest1: 0.7135767\tbest: 0.7135767 (70)\ttotal: 2m 12s\tremaining: 54.1s\n",
            "80:\ttest: 0.7964917\ttest1: 0.7135196\tbest: 0.7135767 (70)\ttotal: 2m 31s\tremaining: 35.6s\n",
            "90:\ttest: 0.7977642\ttest1: 0.7134446\tbest: 0.7135767 (70)\ttotal: 2m 50s\tremaining: 16.9s\n",
            "Stopped by overfitting detector  (20 iterations wait)\n",
            "\n",
            "bestTest = 0.7135767379\n",
            "bestIteration = 70\n",
            "\n",
            "Shrink model to first 71 iterations.\n"
          ],
          "name": "stdout"
        }
      ]
    },
    {
      "cell_type": "code",
      "metadata": {
        "id": "8NXbeECqBA9L"
      },
      "source": [
        "explainer = shap.TreeExplainer(model)\n",
        "shap_values = explainer.shap_values(train_features.drop(['target'], axis='columns'))"
      ],
      "execution_count": null,
      "outputs": []
    },
    {
      "cell_type": "code",
      "metadata": {
        "colab": {
          "base_uri": "https://localhost:8080/",
          "height": 390
        },
        "id": "yAlQ4-_rBGP3",
        "outputId": "d90ee1cf-d380-4892-91b4-107c7cc69e05"
      },
      "source": [
        "shap.summary_plot(shap_values, train_features.drop(['target'], axis='columns'))"
      ],
      "execution_count": null,
      "outputs": [
        {
          "output_type": "display_data",
          "data": {
            "image/png": "[encoded data removed]",
            "text/plain": [
              "<Figure size 576x424.8 with 2 Axes>"
            ]
          },
          "metadata": {
            "tags": [],
            "needs_background": "light"
          }
        }
      ]
    },
    {
      "cell_type": "code",
      "metadata": {
        "id": "R3DlMAcZld3T"
      },
      "source": [
        "del model\n",
        "del shap_values, explainer"
      ],
      "execution_count": null,
      "outputs": []
    },
    {
      "cell_type": "markdown",
      "metadata": {
        "id": "SpyOpJmOd_gt"
      },
      "source": [
        "Выкинем несколько фичей и посмотрим на качество"
      ]
    },
    {
      "cell_type": "code",
      "metadata": {
        "colab": {
          "base_uri": "https://localhost:8080/"
        },
        "id": "Z2sYnk42lGVQ",
        "outputId": "83798540-cc4e-49f7-8d1a-358eb94dfc98"
      },
      "source": [
        "useless_features = ['dur_diff', 'user_genres_max_sum', 'user_genres_mean_sum', 'msno', 'user_artist']\n",
        "model = train_model(train_features.drop(useless_features, axis=1), test_features.drop(useless_features, axis=1), cat_features=[0, 1])"
      ],
      "execution_count": null,
      "outputs": [
        {
          "output_type": "stream",
          "text": [
            "0:\ttest: 0.7634538\ttest1: 0.7012907\tbest: 0.7012907 (0)\ttotal: 1.87s\tremaining: 3m 4s\n",
            "10:\ttest: 0.7756558\ttest1: 0.7092388\tbest: 0.7092388 (10)\ttotal: 16.6s\tremaining: 2m 14s\n",
            "20:\ttest: 0.7775649\ttest1: 0.7101346\tbest: 0.7103385 (15)\ttotal: 32.3s\tremaining: 2m 1s\n",
            "30:\ttest: 0.7819435\ttest1: 0.7120376\tbest: 0.7120376 (30)\ttotal: 49.4s\tremaining: 1m 50s\n",
            "40:\ttest: 0.7836146\ttest1: 0.7128600\tbest: 0.7128600 (40)\ttotal: 1m 7s\tremaining: 1m 36s\n",
            "50:\ttest: 0.7894435\ttest1: 0.7130339\tbest: 0.7130339 (50)\ttotal: 1m 25s\tremaining: 1m 22s\n",
            "60:\ttest: 0.7925785\ttest1: 0.7129842\tbest: 0.7130339 (50)\ttotal: 1m 43s\tremaining: 1m 6s\n",
            "70:\ttest: 0.7944947\ttest1: 0.7132598\tbest: 0.7132944 (68)\ttotal: 2m 3s\tremaining: 50.3s\n",
            "80:\ttest: 0.7955513\ttest1: 0.7133221\tbest: 0.7133290 (79)\ttotal: 2m 21s\tremaining: 33.2s\n",
            "90:\ttest: 0.7963237\ttest1: 0.7132158\tbest: 0.7133365 (81)\ttotal: 2m 39s\tremaining: 15.8s\n",
            "99:\ttest: 0.7969271\ttest1: 0.7130728\tbest: 0.7133365 (81)\ttotal: 2m 56s\tremaining: 0us\n",
            "\n",
            "bestTest = 0.7133364586\n",
            "bestIteration = 81\n",
            "\n",
            "Shrink model to first 82 iterations.\n"
          ],
          "name": "stdout"
        }
      ]
    },
    {
      "cell_type": "code",
      "metadata": {
        "colab": {
          "base_uri": "https://localhost:8080/",
          "height": 281
        },
        "id": "QqpNIGNkmi3N",
        "outputId": "1c1b9e10-5176-4b61-a691-3b9a26b79ae2"
      },
      "source": [
        "explainer = shap.TreeExplainer(model)\n",
        "shap_values = explainer.shap_values(train_features.drop(useless_features + ['target'], axis='columns'))\n",
        "shap.summary_plot(shap_values, train_features.drop(useless_features + ['target'], axis='columns'))"
      ],
      "execution_count": null,
      "outputs": [
        {
          "output_type": "display_data",
          "data": {
            "image/png": "[encoded data removed]",
            "text/plain": [
              "<Figure size 576x280.8 with 2 Axes>"
            ]
          },
          "metadata": {
            "tags": [],
            "needs_background": "light"
          }
        }
      ]
    },
    {
      "cell_type": "code",
      "metadata": {
        "id": "x5t0CIv0mqdn"
      },
      "source": [
        "del model\n",
        "del shap_values, explainer"
      ],
      "execution_count": null,
      "outputs": []
    },
    {
      "cell_type": "markdown",
      "metadata": {
        "id": "1y5BZcEjeEdO"
      },
      "source": [
        "Выкинем все кроме 3х фичей и попробуем поучить на `xgboost`'е, так как категориальных фичей не осталось"
      ]
    },
    {
      "cell_type": "code",
      "metadata": {
        "colab": {
          "base_uri": "https://localhost:8080/"
        },
        "id": "L0z1QyxCm5Q2",
        "outputId": "8545d783-3d86-467c-d0a8-9861815c9c35"
      },
      "source": [
        "useless_features = ['dur_diff', 'user_genres_max_sum', 'user_genres_mean_sum', 'msno', 'user_artist', 'user_language_sum', 'artist_name', 'song_id']\n",
        "\n",
        "dtrain = xgb.DMatrix(train_features.drop(useless_features + ['target'], axis='columns'), label=train_features.target)\n",
        "dval = xgb.DMatrix(test_features.drop(useless_features + ['target'], axis='columns'), label=test_features.target)\n",
        "\n",
        "param = {'max_depth': 6, 'eta': 0.03, 'objective': 'binary:logistic', 'eval_metric': 'auc', 'tree_method': 'exact'}\n",
        "evallist = [(dtrain, 'train'), (dval, 'eval')]\n",
        "\n",
        "num_round = 50\n",
        "bst = xgb.train(param, dtrain, num_round, evallist, early_stopping_rounds=10, verbose_eval=5)"
      ],
      "execution_count": 60,
      "outputs": [
        {
          "output_type": "stream",
          "text": [
            "[0]\ttrain-auc:0.776803\teval-auc:0.706938\n",
            "Multiple eval metrics have been passed: 'eval-auc' will be used for early stopping.\n",
            "\n",
            "Will train until eval-auc hasn't improved in 10 rounds.\n",
            "[5]\ttrain-auc:0.778824\teval-auc:0.708353\n",
            "[10]\ttrain-auc:0.779104\teval-auc:0.708648\n",
            "[15]\ttrain-auc:0.779294\teval-auc:0.708816\n",
            "[20]\ttrain-auc:0.779413\teval-auc:0.708812\n",
            "[25]\ttrain-auc:0.779487\teval-auc:0.708861\n",
            "[30]\ttrain-auc:0.77955\teval-auc:0.708875\n",
            "[35]\ttrain-auc:0.779628\teval-auc:0.708928\n",
            "[40]\ttrain-auc:0.779699\teval-auc:0.708967\n",
            "[45]\ttrain-auc:0.779748\teval-auc:0.708997\n",
            "[49]\ttrain-auc:0.779799\teval-auc:0.709047\n"
          ],
          "name": "stdout"
        }
      ]
    },
    {
      "cell_type": "markdown",
      "metadata": {
        "id": "MeUVht7PELd8"
      },
      "source": [
        "Обучим модель с кросвалидацией"
      ]
    },
    {
      "cell_type": "code",
      "metadata": {
        "colab": {
          "base_uri": "https://localhost:8080/",
          "height": 419
        },
        "id": "a3kISQAtFIz5",
        "outputId": "6a8c194b-1be2-4cc0-e395-1c160f917265"
      },
      "source": [
        "train_features.drop(useless_features, axis='columns')"
      ],
      "execution_count": 116,
      "outputs": [
        {
          "output_type": "execute_result",
          "data": {
            "text/html": [
              "<div>\n",
              "<style scoped>\n",
              "    .dataframe tbody tr th:only-of-type {\n",
              "        vertical-align: middle;\n",
              "    }\n",
              "\n",
              "    .dataframe tbody tr th {\n",
              "        vertical-align: top;\n",
              "    }\n",
              "\n",
              "    .dataframe thead th {\n",
              "        text-align: right;\n",
              "    }\n",
              "</style>\n",
              "<table border=\"1\" class=\"dataframe\">\n",
              "  <thead>\n",
              "    <tr style=\"text-align: right;\">\n",
              "      <th></th>\n",
              "      <th>target</th>\n",
              "      <th>user_language_mean</th>\n",
              "      <th>user_genres_mean_mean</th>\n",
              "      <th>user_genres_max_mean</th>\n",
              "    </tr>\n",
              "  </thead>\n",
              "  <tbody>\n",
              "    <tr>\n",
              "      <th>1475461</th>\n",
              "      <td>1</td>\n",
              "      <td>0.571429</td>\n",
              "      <td>0.364238</td>\n",
              "      <td>0.364238</td>\n",
              "    </tr>\n",
              "    <tr>\n",
              "      <th>1475462</th>\n",
              "      <td>1</td>\n",
              "      <td>0.570048</td>\n",
              "      <td>0.562500</td>\n",
              "      <td>0.562500</td>\n",
              "    </tr>\n",
              "    <tr>\n",
              "      <th>1475463</th>\n",
              "      <td>0</td>\n",
              "      <td>0.475000</td>\n",
              "      <td>0.486772</td>\n",
              "      <td>0.486772</td>\n",
              "    </tr>\n",
              "    <tr>\n",
              "      <th>1475464</th>\n",
              "      <td>1</td>\n",
              "      <td>0.388889</td>\n",
              "      <td>0.227848</td>\n",
              "      <td>0.227848</td>\n",
              "    </tr>\n",
              "    <tr>\n",
              "      <th>1475465</th>\n",
              "      <td>1</td>\n",
              "      <td>0.588235</td>\n",
              "      <td>0.665714</td>\n",
              "      <td>0.665714</td>\n",
              "    </tr>\n",
              "    <tr>\n",
              "      <th>...</th>\n",
              "      <td>...</td>\n",
              "      <td>...</td>\n",
              "      <td>...</td>\n",
              "      <td>...</td>\n",
              "    </tr>\n",
              "    <tr>\n",
              "      <th>7377299</th>\n",
              "      <td>0</td>\n",
              "      <td>0.172000</td>\n",
              "      <td>0.000000</td>\n",
              "      <td>0.000000</td>\n",
              "    </tr>\n",
              "    <tr>\n",
              "      <th>7377300</th>\n",
              "      <td>0</td>\n",
              "      <td>0.172000</td>\n",
              "      <td>0.000000</td>\n",
              "      <td>0.000000</td>\n",
              "    </tr>\n",
              "    <tr>\n",
              "      <th>7377301</th>\n",
              "      <td>0</td>\n",
              "      <td>0.614555</td>\n",
              "      <td>0.655172</td>\n",
              "      <td>0.655172</td>\n",
              "    </tr>\n",
              "    <tr>\n",
              "      <th>7377302</th>\n",
              "      <td>1</td>\n",
              "      <td>0.197260</td>\n",
              "      <td>0.227273</td>\n",
              "      <td>0.227273</td>\n",
              "    </tr>\n",
              "    <tr>\n",
              "      <th>7377303</th>\n",
              "      <td>0</td>\n",
              "      <td>0.265306</td>\n",
              "      <td>0.000000</td>\n",
              "      <td>0.000000</td>\n",
              "    </tr>\n",
              "  </tbody>\n",
              "</table>\n",
              "<p>5901843 rows × 4 columns</p>\n",
              "</div>"
            ],
            "text/plain": [
              "         target  ...  user_genres_max_mean\n",
              "1475461       1  ...              0.364238\n",
              "1475462       1  ...              0.562500\n",
              "1475463       0  ...              0.486772\n",
              "1475464       1  ...              0.227848\n",
              "1475465       1  ...              0.665714\n",
              "...         ...  ...                   ...\n",
              "7377299       0  ...              0.000000\n",
              "7377300       0  ...              0.000000\n",
              "7377301       0  ...              0.655172\n",
              "7377302       1  ...              0.227273\n",
              "7377303       0  ...              0.000000\n",
              "\n",
              "[5901843 rows x 4 columns]"
            ]
          },
          "metadata": {
            "tags": []
          },
          "execution_count": 116
        }
      ]
    },
    {
      "cell_type": "code",
      "metadata": {
        "id": "3cbtr2RD0QDL",
        "colab": {
          "base_uri": "https://localhost:8080/"
        },
        "outputId": "f1d59aa3-9585-4d64-cfc9-aafb17ba403a"
      },
      "source": [
        "k = 5\n",
        "kf = KFold(n_splits=k)\n",
        "mean_auc = 0\n",
        "for train_index, val_index in kf.split(df):\n",
        "  train_df = df.iloc[train_index].copy()\n",
        "  test_df = df.iloc[val_index].copy()\n",
        "  \n",
        "  user_genres_pos, user_genres_mean, user_language_sum, user_language_mean, mean_dur_of_pos_songs, user_artist_prob = make_features(train_df)\n",
        "  train_features = transform_features(train_df, user_genres_pos, user_genres_mean, user_language_sum, user_language_mean, mean_dur_of_pos_songs, user_artist_prob)\n",
        "  test_features = transform_features(test_df, user_genres_pos, user_genres_mean, user_language_sum, user_language_mean, mean_dur_of_pos_songs, user_artist_prob)\n",
        "  \n",
        "  model = train_model(train_features.drop(useless_features, axis='columns'), test_features.drop(useless_features, axis='columns'), cat_features=[], verbose=False)\n",
        "  preds_proba = model.predict_proba(test_features.drop(useless_features + ['target'], axis='columns'))\n",
        "  roc_auc = roc_auc_score(test_features.target, preds_proba[:, 1])\n",
        "  mean_auc += roc_auc\n",
        "\n",
        "mean_auc / k"
      ],
      "execution_count": 117,
      "outputs": [
        {
          "output_type": "execute_result",
          "data": {
            "text/plain": [
              "0.7102618565475094"
            ]
          },
          "metadata": {
            "tags": []
          },
          "execution_count": 117
        }
      ]
    },
    {
      "cell_type": "markdown",
      "metadata": {
        "id": "3R4mEn3spcp3"
      },
      "source": [
        "Так выглядит датасет со всеми фичами"
      ]
    },
    {
      "cell_type": "code",
      "metadata": {
        "colab": {
          "base_uri": "https://localhost:8080/",
          "height": 224
        },
        "id": "NFjtHdtTTdUE",
        "outputId": "eac78aee-09d3-4c19-81ee-1d3bbf2dc5c8"
      },
      "source": [
        "train_features.head()"
      ],
      "execution_count": null,
      "outputs": [
        {
          "output_type": "execute_result",
          "data": {
            "text/html": [
              "<div>\n",
              "<style scoped>\n",
              "    .dataframe tbody tr th:only-of-type {\n",
              "        vertical-align: middle;\n",
              "    }\n",
              "\n",
              "    .dataframe tbody tr th {\n",
              "        vertical-align: top;\n",
              "    }\n",
              "\n",
              "    .dataframe thead th {\n",
              "        text-align: right;\n",
              "    }\n",
              "</style>\n",
              "<table border=\"1\" class=\"dataframe\">\n",
              "  <thead>\n",
              "    <tr style=\"text-align: right;\">\n",
              "      <th></th>\n",
              "      <th>msno</th>\n",
              "      <th>song_id</th>\n",
              "      <th>target</th>\n",
              "      <th>artist_name</th>\n",
              "      <th>user_language_sum</th>\n",
              "      <th>user_language_mean</th>\n",
              "      <th>user_genres_mean_sum</th>\n",
              "      <th>user_genres_mean_mean</th>\n",
              "      <th>user_genres_max_sum</th>\n",
              "      <th>user_genres_max_mean</th>\n",
              "      <th>dur_diff</th>\n",
              "      <th>user_artist</th>\n",
              "    </tr>\n",
              "  </thead>\n",
              "  <tbody>\n",
              "    <tr>\n",
              "      <th>1475461</th>\n",
              "      <td>gom65a1dZKvlju6YFEXmKMUf9auE+HFVTcdqEpxbhKk=</td>\n",
              "      <td>hlvBIa3DezeYB7hJUopt/gmKf/c4BCCRoLgAxwuiqfU=</td>\n",
              "      <td>1</td>\n",
              "      <td>詹雅雯</td>\n",
              "      <td>100</td>\n",
              "      <td>0.571429</td>\n",
              "      <td>110.0</td>\n",
              "      <td>0.364238</td>\n",
              "      <td>110</td>\n",
              "      <td>0.364238</td>\n",
              "      <td>50183.432584</td>\n",
              "      <td>0.096189</td>\n",
              "    </tr>\n",
              "    <tr>\n",
              "      <th>1475462</th>\n",
              "      <td>FCj2jHyeiv7bQF/QbMiOyzgBVtZLZtMPHZ4LBDl8BzU=</td>\n",
              "      <td>hlvBIa3DezeYB7hJUopt/gmKf/c4BCCRoLgAxwuiqfU=</td>\n",
              "      <td>1</td>\n",
              "      <td>詹雅雯</td>\n",
              "      <td>118</td>\n",
              "      <td>0.570048</td>\n",
              "      <td>144.0</td>\n",
              "      <td>0.562500</td>\n",
              "      <td>144</td>\n",
              "      <td>0.562500</td>\n",
              "      <td>18789.421320</td>\n",
              "      <td>0.125382</td>\n",
              "    </tr>\n",
              "    <tr>\n",
              "      <th>1475463</th>\n",
              "      <td>VfWeKWt5yKJ7ss0dwR4WW1UIKF0iGT+EeUbks+Lmcyk=</td>\n",
              "      <td>hlvBIa3DezeYB7hJUopt/gmKf/c4BCCRoLgAxwuiqfU=</td>\n",
              "      <td>0</td>\n",
              "      <td>詹雅雯</td>\n",
              "      <td>171</td>\n",
              "      <td>0.475000</td>\n",
              "      <td>184.0</td>\n",
              "      <td>0.486772</td>\n",
              "      <td>184</td>\n",
              "      <td>0.486772</td>\n",
              "      <td>52823.385870</td>\n",
              "      <td>0.031579</td>\n",
              "    </tr>\n",
              "    <tr>\n",
              "      <th>1475464</th>\n",
              "      <td>xrkIXMaH4LT7uAR/UKaiPWLlW59kwFa2ul8NCm8QGxg=</td>\n",
              "      <td>hlvBIa3DezeYB7hJUopt/gmKf/c4BCCRoLgAxwuiqfU=</td>\n",
              "      <td>1</td>\n",
              "      <td>詹雅雯</td>\n",
              "      <td>7</td>\n",
              "      <td>0.388889</td>\n",
              "      <td>18.0</td>\n",
              "      <td>0.227848</td>\n",
              "      <td>18</td>\n",
              "      <td>0.227848</td>\n",
              "      <td>48530.913043</td>\n",
              "      <td>0.180000</td>\n",
              "    </tr>\n",
              "    <tr>\n",
              "      <th>1475465</th>\n",
              "      <td>EomB75Q1zWGpuzsV9s/57nW1tNltsNpG5x1M4oMCgyA=</td>\n",
              "      <td>hlvBIa3DezeYB7hJUopt/gmKf/c4BCCRoLgAxwuiqfU=</td>\n",
              "      <td>1</td>\n",
              "      <td>詹雅雯</td>\n",
              "      <td>10</td>\n",
              "      <td>0.588235</td>\n",
              "      <td>233.0</td>\n",
              "      <td>0.665714</td>\n",
              "      <td>233</td>\n",
              "      <td>0.665714</td>\n",
              "      <td>43965.658610</td>\n",
              "      <td>0.017575</td>\n",
              "    </tr>\n",
              "  </tbody>\n",
              "</table>\n",
              "</div>"
            ],
            "text/plain": [
              "                                                 msno  ... user_artist\n",
              "1475461  gom65a1dZKvlju6YFEXmKMUf9auE+HFVTcdqEpxbhKk=  ...    0.096189\n",
              "1475462  FCj2jHyeiv7bQF/QbMiOyzgBVtZLZtMPHZ4LBDl8BzU=  ...    0.125382\n",
              "1475463  VfWeKWt5yKJ7ss0dwR4WW1UIKF0iGT+EeUbks+Lmcyk=  ...    0.031579\n",
              "1475464  xrkIXMaH4LT7uAR/UKaiPWLlW59kwFa2ul8NCm8QGxg=  ...    0.180000\n",
              "1475465  EomB75Q1zWGpuzsV9s/57nW1tNltsNpG5x1M4oMCgyA=  ...    0.017575\n",
              "\n",
              "[5 rows x 12 columns]"
            ]
          },
          "metadata": {
            "tags": []
          },
          "execution_count": 42
        }
      ]
    },
    {
      "cell_type": "markdown",
      "metadata": {
        "id": "VrSZTqpHfN-c"
      },
      "source": [
        "### Задание 2"
      ]
    },
    {
      "cell_type": "code",
      "metadata": {
        "id": "uevEr9Ps3FXW"
      },
      "source": [
        "import torch.nn as nn\n",
        "from torch.utils.data import Dataset, DataLoader\n",
        "import torch"
      ],
      "execution_count": 24,
      "outputs": []
    },
    {
      "cell_type": "code",
      "metadata": {
        "id": "-kbYBil-v-sW"
      },
      "source": [
        "mnso_idx = {msno: idx for idx, msno in enumerate(train_df.msno.unique())}\n",
        "idx_mnso = {idx: msno for msno, idx in mnso_idx.items()}"
      ],
      "execution_count": 25,
      "outputs": []
    },
    {
      "cell_type": "code",
      "metadata": {
        "id": "1Wm-SltOya2R"
      },
      "source": [
        "song_idx = {song_id: idx for idx, song_id in enumerate(train_df.song_id.unique())}\n",
        "idx_song = {idx: song_id for song_id, idx in enumerate(song_idx.items())}"
      ],
      "execution_count": 26,
      "outputs": []
    },
    {
      "cell_type": "markdown",
      "metadata": {
        "id": "PQYtyiNAeRFp"
      },
      "source": [
        "'Предложения' на которых будем учить выглядят примерно так"
      ]
    },
    {
      "cell_type": "code",
      "metadata": {
        "colab": {
          "base_uri": "https://localhost:8080/"
        },
        "id": "xFP4igtw1xGV",
        "outputId": "d222373b-920e-432f-d996-69115632f55c"
      },
      "source": [
        "sentences = train_df[train_df.target == 1].groupby('msno').song_id.apply(list)\n",
        "sentences"
      ],
      "execution_count": 27,
      "outputs": [
        {
          "output_type": "execute_result",
          "data": {
            "text/plain": [
              "msno\n",
              "++5wYjoMgQHoRuD3GbbvmphZbBBwymzv5Q4l8sywtuU=    [78w25Ysgx+7z9JWQwlA3ypIpPvKBz6afDGLnp1OZUcw=,...\n",
              "++AH7m/EQ4iKe6wSlfO/xXAJx50p+fCeTyF90GoE9Pg=    [Hl6EBpUuCKh8k8Mzao5hml03O4q0syx+7atSC3vEvok=,...\n",
              "++e+jsxuQ8UEnmW40od9Rq3rW7+wAum4wooXyZTKJpk=    [8Q0I8o45d/4HmZKoF/A1114QSYnfxKDTiTgBImebid8=,...\n",
              "++xWL5Pbi2CpG4uUugigQahauM0J/sBIRloTNPBybIU=       [ED0r/aTepU2vXuPolSKoLObTpKsA8P9y8TOLER1Ao8M=]\n",
              "+/SKX44s4ryWQzYzuV7ZKMXqIKQMN1cPz3M8CJ8CFKU=    [9kvPtsVoRFyh96q8Sk+UiMAPPTaeVvwUAjAUXgpj9NM=,...\n",
              "                                                                      ...                        \n",
              "zzH8+kEnDu02NMWBPCjio6wOujBZUs7y9o7AWWcvIGo=    [1c7rPmX4d8mtsd8gJ7Bem6j/v5MMQd9g5jrf8sa9+dg=,...\n",
              "zzZBJUYXrb168A4Ff4sA8L2iOH0x4ciKdD6WkV53XaE=    [xK0clTH8TvjG6sKmJXZuMLzhikhlEsolLtx2AHBpmbQ=,...\n",
              "zzompfSaMamqvjyCMYvgUBwYrxh8fHE40z3f73CQoak=    [68oT2N/+gXsxXrsL1qZjE8rGn6/gfUpPZBPU1AwVHfI=,...\n",
              "zzqc2ja7z10FtSpagYVcAZXg/gPRq7wcDZuNFj+zJSU=    [DKGm2awf1TsLWeXqpDfVVQf5M2qPmcxI9Dwxz+45Qqs=,...\n",
              "zzzRi5ek1YCKTGns8C77xwAutE05PAPmz8T/pIIQhzE=       [rqNd52MxQ+okfR61j2c7u36DLODO4d2Zt/hMm3jxncM=]\n",
              "Name: song_id, Length: 26417, dtype: object"
            ]
          },
          "metadata": {
            "tags": []
          },
          "execution_count": 27
        }
      ]
    },
    {
      "cell_type": "code",
      "metadata": {
        "id": "QRqCXCB_zfhN"
      },
      "source": [
        "class SongDataset(Dataset):\n",
        "  def __init__(self, sentences, song_idx):\n",
        "    self.sentences = sentences\n",
        "    self.song_to_idx = song_idx\n",
        "  \n",
        "  def __len__(self):\n",
        "    return len(self.sentences)\n",
        "  \n",
        "  def __getitem__(self, idx):\n",
        "    return torch.Tensor([self.song_to_idx.get(song_id) for song_id in self.sentences[idx]]).long()"
      ],
      "execution_count": 28,
      "outputs": []
    },
    {
      "cell_type": "code",
      "metadata": {
        "id": "GSUqbV8D2_Ux"
      },
      "source": [
        "song_dataset = SongDataset(sentences, song_idx)\n",
        "\n",
        "song_dataloader = DataLoader(song_dataset, batch_size=1, shuffle=True, num_workers=0)"
      ],
      "execution_count": 29,
      "outputs": []
    },
    {
      "cell_type": "markdown",
      "metadata": {
        "id": "T4w27jXseWng"
      },
      "source": [
        "Напишем модель"
      ]
    },
    {
      "cell_type": "code",
      "metadata": {
        "id": "RRT_TKrYonjp"
      },
      "source": [
        "class W2V(nn.Module):\n",
        "  def __init__(self, n_songs, embed_size=16, window_size=2, n_neg_sample=7, max_sentence_len=20):\n",
        "    super(W2V, self).__init__()\n",
        "    self.v = nn.Embedding(n_songs, embed_size) # senter word\n",
        "    self.u = nn.Embedding(n_songs, embed_size) # context word\n",
        "    self.n_songs = n_songs\n",
        "    self.window_size = window_size\n",
        "    self.n_neg_sample = n_neg_sample\n",
        "    self.max_sentence_len = max_sentence_len\n",
        "\n",
        "  def loss(self, song_idx, context_song):\n",
        "    neg_samples_idx = torch.Tensor(np.random.choice(self.n_songs, self.n_neg_sample, replace=False)).long().cuda()\n",
        "    neg_samples = self.u(neg_samples_idx)\n",
        "    denominator = torch.sum(torch.log(torch.sigmoid(-torch.mv(neg_samples, self.v(song_idx)))))\n",
        "    return -torch.log(torch.sigmoid(torch.dot(self.v(song_idx), self.u(context_song)))) - denominator\n",
        "\n",
        "  def forward(self, sentence):\n",
        "    len_ = min(len(sentence), self.max_sentence_len)\n",
        "    if len_ == len(sentence):\n",
        "      sentence_start = 0\n",
        "    else:\n",
        "      sentence_start = np.random.randint(0, len(sentence) - len_)\n",
        "    losses = []\n",
        "    for i, song_idx in enumerate(sentence[sentence_start: sentence_start + len_]):\n",
        "      for j in range(max(i - self.window_size, 0), i):\n",
        "        context_song = sentence[sentence_start + j]\n",
        "        losses.append(self.loss(song_idx, context_song))\n",
        "      for j in range(i + 1, min(i + self.window_size + 1, len_)):\n",
        "        context_song = sentence[sentence_start + j]\n",
        "        losses.append(self.loss(song_idx, context_song))\n",
        "    return torch.stack(losses).mean()"
      ],
      "execution_count": 30,
      "outputs": []
    },
    {
      "cell_type": "markdown",
      "metadata": {
        "id": "KG175Z54eZWT"
      },
      "source": [
        "Обучим модель"
      ]
    },
    {
      "cell_type": "code",
      "metadata": {
        "id": "XYs6VUBK7BId",
        "colab": {
          "base_uri": "https://localhost:8080/"
        },
        "outputId": "ea0f3c31-ce53-472c-902d-148ec34a5492"
      },
      "source": [
        "model = W2V(len(song_idx)).cuda()\n",
        "optimizer = torch.optim.Adam(model.parameters(), lr=0.0002, betas=(0.9, 0.999))\n",
        "losses = []\n",
        "verbose_every = 600\n",
        "n_iters = 12000\n",
        "start = time.time()\n",
        "\n",
        "for i, batch in enumerate(song_dataloader):\n",
        "  if batch.shape[1] <= 1:\n",
        "    continue\n",
        "  optimizer.zero_grad()\n",
        "  loss = model(batch[0].cuda())\n",
        "  loss.backward()\n",
        "  optimizer.step()\n",
        "  losses.append(loss.item())\n",
        "  if i % verbose_every == 0:\n",
        "    print(f\"loss - {np.mean(losses)}, batches finished - {i}, time took - {time.time() - start}\")\n",
        "    start = time.time()\n",
        "    losses = []\n",
        "  if i == n_iters:\n",
        "    break"
      ],
      "execution_count": 63,
      "outputs": [
        {
          "output_type": "stream",
          "text": [
            "loss - 14.308470726013184, batches finished - 0, time took - 0.5599398612976074\n",
            "loss - 13.949803691997863, batches finished - 600, time took - 326.70251655578613\n",
            "loss - 13.839367778497785, batches finished - 1200, time took - 317.3302321434021\n",
            "loss - 13.77641807160936, batches finished - 1800, time took - 321.25098848342896\n",
            "loss - 13.732859399677379, batches finished - 2400, time took - 321.13426089286804\n",
            "loss - 13.698992053739044, batches finished - 3000, time took - 316.4317808151245\n",
            "loss - 13.698521654094968, batches finished - 3600, time took - 328.3615839481354\n",
            "loss - 13.590697183676646, batches finished - 4200, time took - 320.234432220459\n",
            "loss - 13.721585096947438, batches finished - 4800, time took - 329.225563287735\n",
            "loss - 13.523150226436622, batches finished - 5400, time took - 330.2186768054962\n",
            "loss - 13.535064236549296, batches finished - 6000, time took - 325.93213868141174\n",
            "loss - 13.577930986568097, batches finished - 6600, time took - 336.06593656539917\n",
            "loss - 13.50566376598788, batches finished - 7200, time took - 326.3185133934021\n",
            "loss - 13.445061736914084, batches finished - 7800, time took - 326.83740162849426\n",
            "loss - 13.41979800842996, batches finished - 8400, time took - 321.90907287597656\n",
            "loss - 13.392002516749939, batches finished - 9000, time took - 324.86785650253296\n",
            "loss - 13.366135868273282, batches finished - 9600, time took - 335.5190362930298\n",
            "loss - 13.310991135085542, batches finished - 10200, time took - 323.66845321655273\n",
            "loss - 13.345610832871595, batches finished - 10800, time took - 325.03494024276733\n",
            "loss - 13.31827007009417, batches finished - 11400, time took - 327.1364140510559\n",
            "loss - 13.282579093434364, batches finished - 12000, time took - 328.9344525337219\n"
          ],
          "name": "stdout"
        }
      ]
    },
    {
      "cell_type": "code",
      "metadata": {
        "id": "og9XW9JRnCNL"
      },
      "source": [
        "model = model.cpu()"
      ],
      "execution_count": 66,
      "outputs": []
    },
    {
      "cell_type": "code",
      "metadata": {
        "id": "eRLWfOfGH9T7"
      },
      "source": [
        "def get_song_embed(song, model, missing_values):\n",
        "  cur_song_idx = song_idx.get(song, None)\n",
        "  if cur_song_idx is None:\n",
        "    return missing_values\n",
        "  return model.v(torch.tensor(cur_song_idx).long()).detach().numpy()"
      ],
      "execution_count": 81,
      "outputs": []
    },
    {
      "cell_type": "markdown",
      "metadata": {
        "id": "Qs0GG3gneb0K"
      },
      "source": [
        "Сделаем эмбединги для пользователей как среднее по песням которые ему понравились"
      ]
    },
    {
      "cell_type": "code",
      "metadata": {
        "colab": {
          "base_uri": "https://localhost:8080/"
        },
        "id": "sqh5UkxxGsfO",
        "outputId": "d40a88ee-015a-4274-b558-cf978639530f"
      },
      "source": [
        "zero_pad = np.zeros(64)\n",
        "user_embed = train_df[train_df.target == 1].groupby('msno').song_id.apply(lambda x: np.mean([get_song_embed(song, model, zero_pad) for song in x]))\n",
        "user_embed"
      ],
      "execution_count": 82,
      "outputs": [
        {
          "output_type": "execute_result",
          "data": {
            "text/plain": [
              "msno\n",
              "++5wYjoMgQHoRuD3GbbvmphZbBBwymzv5Q4l8sywtuU=    0.002847\n",
              "++AH7m/EQ4iKe6wSlfO/xXAJx50p+fCeTyF90GoE9Pg=   -0.012450\n",
              "++e+jsxuQ8UEnmW40od9Rq3rW7+wAum4wooXyZTKJpk=    0.015446\n",
              "++xWL5Pbi2CpG4uUugigQahauM0J/sBIRloTNPBybIU=   -0.073882\n",
              "+/SKX44s4ryWQzYzuV7ZKMXqIKQMN1cPz3M8CJ8CFKU=    0.056786\n",
              "                                                  ...   \n",
              "zzH8+kEnDu02NMWBPCjio6wOujBZUs7y9o7AWWcvIGo=    0.002661\n",
              "zzZBJUYXrb168A4Ff4sA8L2iOH0x4ciKdD6WkV53XaE=    0.017471\n",
              "zzompfSaMamqvjyCMYvgUBwYrxh8fHE40z3f73CQoak=    0.012265\n",
              "zzqc2ja7z10FtSpagYVcAZXg/gPRq7wcDZuNFj+zJSU=   -0.025135\n",
              "zzzRi5ek1YCKTGns8C77xwAutE05PAPmz8T/pIIQhzE=    0.285123\n",
              "Name: song_id, Length: 26417, dtype: float64"
            ]
          },
          "metadata": {
            "tags": []
          },
          "execution_count": 82
        }
      ]
    },
    {
      "cell_type": "markdown",
      "metadata": {
        "id": "Gh8CPGsHonzP"
      },
      "source": [
        "Добавим новую фичу - похожесть (dot) пользователя и песни"
      ]
    },
    {
      "cell_type": "code",
      "metadata": {
        "id": "Fp1lpBfulqIy"
      },
      "source": [
        "def add_w2v_features(df, model, user_embed):\n",
        "  rev_index = {index: i for i, index in enumerate(user_embed.index)}\n",
        "  user_song_corr = []\n",
        "\n",
        "  start = time.time()\n",
        "  cnt = 0\n",
        "  for index, row in df.iterrows():\n",
        "    msno = row.msno\n",
        "    song_id = row.song_id\n",
        "\n",
        "    cur_user_embed = user_embed.iloc[rev_index.get(msno, 0)]\n",
        "    cur_song_embed = get_song_embed(song_id, model, zero_pad)\n",
        "    \n",
        "    user_song_corr.append(np.sum(cur_user_embed * cur_song_embed))\n",
        "    cnt += 1\n",
        "  \n",
        "  df['user_song_corr'] = user_song_corr\n",
        "  return df"
      ],
      "execution_count": 96,
      "outputs": []
    },
    {
      "cell_type": "code",
      "metadata": {
        "id": "1llu2KNVSJYN"
      },
      "source": [
        "add_w2v_features(train_df, model, user_embed);\n",
        "add_w2v_features(test_df, model, user_embed);"
      ],
      "execution_count": null,
      "outputs": []
    },
    {
      "cell_type": "code",
      "metadata": {
        "id": "k2pcDgylk0jS"
      },
      "source": [
        "w2v_model = model"
      ],
      "execution_count": 102,
      "outputs": []
    },
    {
      "cell_type": "markdown",
      "metadata": {
        "id": "G-sqNWLlohD7"
      },
      "source": [
        "Обучим с новой фичёй"
      ]
    },
    {
      "cell_type": "code",
      "metadata": {
        "colab": {
          "base_uri": "https://localhost:8080/"
        },
        "id": "wr0BX6ISlYq6",
        "outputId": "16ab2121-1d8e-4b31-ba75-f2b6f00605db"
      },
      "source": [
        "cat_boost_model = train_model(train_features.drop(useless_features, axis='columns'), test_features.drop(useless_features, axis='columns'), cat_features=[])"
      ],
      "execution_count": 107,
      "outputs": [
        {
          "output_type": "stream",
          "text": [
            "0:\ttest: 0.7629973\ttest1: 0.7028320\tbest: 0.7028320 (0)\ttotal: 1.22s\tremaining: 2m\n",
            "10:\ttest: 0.7751904\ttest1: 0.7092540\tbest: 0.7092540 (10)\ttotal: 12.3s\tremaining: 1m 39s\n",
            "20:\ttest: 0.7774426\ttest1: 0.7098713\tbest: 0.7098713 (20)\ttotal: 25.1s\tremaining: 1m 34s\n",
            "30:\ttest: 0.7780595\ttest1: 0.7101398\tbest: 0.7101492 (28)\ttotal: 38.7s\tremaining: 1m 26s\n",
            "40:\ttest: 0.7785476\ttest1: 0.7102438\tbest: 0.7102438 (40)\ttotal: 52.7s\tremaining: 1m 15s\n",
            "50:\ttest: 0.7789247\ttest1: 0.7103574\tbest: 0.7103574 (50)\ttotal: 1m 6s\tremaining: 1m 4s\n",
            "60:\ttest: 0.7792458\ttest1: 0.7103438\tbest: 0.7104184 (55)\ttotal: 1m 21s\tremaining: 51.8s\n",
            "70:\ttest: 0.7795401\ttest1: 0.7103495\tbest: 0.7104184 (55)\ttotal: 1m 35s\tremaining: 38.9s\n",
            "Stopped by overfitting detector  (20 iterations wait)\n",
            "\n",
            "bestTest = 0.7104184335\n",
            "bestIteration = 55\n",
            "\n",
            "Shrink model to first 56 iterations.\n"
          ],
          "name": "stdout"
        }
      ]
    },
    {
      "cell_type": "markdown",
      "metadata": {
        "id": "6oAIehLXowab"
      },
      "source": [
        "Прироста нет :(  \n",
        "посмотрим shap'ы"
      ]
    },
    {
      "cell_type": "code",
      "metadata": {
        "colab": {
          "base_uri": "https://localhost:8080/",
          "height": 237
        },
        "id": "8xiXRy_Bl6Yx",
        "outputId": "ab5abe96-cad3-4b47-8272-60932d4cb1c0"
      },
      "source": [
        "explainer = shap.TreeExplainer(cat_boost_model)\n",
        "shap_values = explainer.shap_values(train_features.drop(useless_features + ['target'], axis='columns'))\n",
        "shap.summary_plot(shap_values, train_features.drop(useless_features + ['target'], axis='columns'))"
      ],
      "execution_count": 108,
      "outputs": [
        {
          "output_type": "display_data",
          "data": {
            "image/png": "[encoded data removed]",
            "text/plain": [
              "<Figure size 576x223.2 with 2 Axes>"
            ]
          },
          "metadata": {
            "tags": [],
            "needs_background": "light"
          }
        }
      ]
    },
    {
      "cell_type": "markdown",
      "metadata": {
        "id": "CBedyB_no4lq"
      },
      "source": [
        "И на них фича выглядит бесполезной :("
      ]
    }
  ]
}